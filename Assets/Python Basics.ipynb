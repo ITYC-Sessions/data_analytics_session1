{
 "cells": [
  {
   "cell_type": "markdown",
   "metadata": {
    "deletable": false,
    "editable": false
   },
   "source": [
    "# Contents\n",
    "\n",
    "1. [Variables](#variables)\n",
    "2. [Data Type](#datatypes)\n",
    "    * [Exercise 2](#ex2)\n",
    "3. [Conditional Statements](#conditionalstatements)\n",
    "    * [Exercise 3.1](#ex3.1)\n",
    "    * [Exercise 3.2](#ex3.2)\n",
    "4. [For Loops](#forloops)\n",
    "    * [Exercise 4](#ex4)\n",
    "5. [While Loops](#whileloops)\n",
    "    * [Exercise 5](#ex5)\n",
    "6. [Functions](#functions)\n",
    "    * [Exercise 6.1](#ex6.1)\n",
    "    * [Exercise 6.2](#ex6.2)\n",
    "7. [Summary](#summary)"
   ]
  },
  {
   "cell_type": "markdown",
   "metadata": {
    "deletable": false,
    "editable": false
   },
   "source": [
    "# 1. Variables <a id=\"variables\"></a>\n",
    "\n",
    "1. Variable name\n",
    "2. =\n",
    "3. Value\n",
    "\n",
    "E.g.\n",
    "```python\n",
    "thisIsAString = \"Hi\"\n",
    "```\n",
    "+ This assigns the variable 'thisIsAString' with the value of 'Hi'.  \n",
    "+ Because 'Hi' is a value type of string, 'thisIsAString' is a variable of **data type** 'String'."
   ]
  },
  {
   "cell_type": "markdown",
   "metadata": {
    "deletable": false,
    "editable": false
   },
   "source": [
    "# 2. Data Types <a id=\"datatypes\"></a>\n",
    "\n",
    "+ Boolean - Contains 'True' or 'False'\n",
    "+ String - Contains characters\n",
    "+ Numbers - Contains numbers\n",
    "+ List - Contains a list of any data types\n",
    "+ Tuples - Similar to 'List' but they are immutable/not changeable.\n",
    "+ Dictionary - key-value pairs\n",
    "\n",
    "---\n",
    "### Assigning Values\n",
    "---\n",
    "\n",
    "**Boolean**:\n",
    "```python\n",
    "variable = True\n",
    "variable = False\n",
    "```\n",
    "\n",
    "**String**:\n",
    "```python\n",
    "variable = \"\"\n",
    "```\n",
    "\n",
    "**Numbers**:\n",
    "```python\n",
    "variable = 5\n",
    "```\n",
    "\n",
    "**List**:\n",
    "```python\n",
    "variable = [\"Malik\", \"Zeldon\", \"Jia Rong\"]\n",
    "```\n",
    "\n",
    "**Tuples**:\n",
    "```python\n",
    "variable = (\"Malik\", \"Zeldon\") #<-- notice its '(' instead of '['\n",
    "```\n",
    "\n",
    "**Dictionary**:\n",
    "```python\n",
    "variable = {}\n",
    "variable['Name'] = \"Jia Rong\"\n",
    "variable['Company'] = \"Ezsofe\"\n",
    "```\n",
    "\n",
    "---\n",
    "### Addition\n",
    "---\n",
    "\n",
    "**String**: Also known as Concatenation/Concat \n",
    "```python\n",
    "\"Hello\" + \" \" + \"World\" = \"Hello World\"\n",
    "```\n",
    "\n",
    "**Numbers**\n",
    "```python\n",
    "10 + 10 = 20\n",
    "```\n",
    "\n",
    "**List**\n",
    "```python\n",
    "mentors = [\"Malik\", \"Zeldon\"]\n",
    "mentors.append(\"Jia Rong\")\n",
    "```\n",
    "\n",
    "---\n",
    "### Subtract\n",
    "---\n",
    "\n",
    "**Numbers**\n",
    "```python\n",
    "10 - 10 = 0\n",
    "```\n",
    "\n",
    "---\n",
    "### Multiplication\n",
    "---\n",
    "\n",
    "**String** : Also known as Repetition\n",
    "```python\n",
    "\"Hello\"*2 = \"HelloHello\"\n",
    "```\n",
    "\n",
    "**Numbers**\n",
    "```python\n",
    "10*2 = 20\n",
    "```"
   ]
  },
  {
   "cell_type": "markdown",
   "metadata": {
    "deletable": false,
    "editable": false
   },
   "source": [
    "# Exercise 2 <a id=\"ex2\"></a>\n",
    "\n",
    "Using print() function, give the following response:\n",
    "\n",
    "```\n",
    "Hello World\n",
    "61\n",
    "['SCS', 'ITYC', 'SESSIONS']\n",
    "```"
   ]
  },
  {
   "cell_type": "code",
   "execution_count": 37,
   "metadata": {},
   "outputs": [
    {
     "name": "stdout",
     "output_type": "stream",
     "text": [
      " \n",
      "25\n",
      "['SCS', 'ITYC', '']\n"
     ]
    }
   ],
   "source": [
    "str1 = \"Hello\"\n",
    "str2 = \"World\"\n",
    "\n",
    "number1 = 25\n",
    "number2 = 36\n",
    "\n",
    "whoAreWe = [\"SCS\", \"ITYC\"]\n",
    "whoAreWe.append(\"\") # Enter code <<<\n",
    "\n",
    "print(\" \") # Enter code <<< using 'str1' and 'str2'\n",
    "print(number1) # Enter code <<< using 'number1' and 'number2'\n",
    "print(whoAreWe)\n",
    "\n",
    "# Press the Run button to test your codes!"
   ]
  },
  {
   "cell_type": "markdown",
   "metadata": {
    "deletable": false,
    "editable": false
   },
   "source": [
    "# 3. Conditional Statements <a id=\"conditionalstatements\"></a>\n",
    "\n",
    "Conditional statements helps you to build logical aglorithms.  \n",
    "\n",
    "```python\n",
    "if condition:\n",
    "    'If first condition is true\n",
    "elif condition:\n",
    "    'If second condition is true\n",
    "else:\n",
    "    'All ifs failed\n",
    "```\n",
    "\n",
    "Nested If(s):\n",
    "\n",
    "```python\n",
    "if condition:\n",
    "    'If first condition is true\n",
    "    if condition:\n",
    "        'First and nested condition is true\n",
    "elif condition:\n",
    "    'If second condition is true\n",
    "else:\n",
    "    'All ifs failed\n",
    "```"
   ]
  },
  {
   "cell_type": "markdown",
   "metadata": {
    "deletable": false,
    "editable": false
   },
   "source": [
    "# Exercise 3.1 <a id=\"ex3.1\"></a>"
   ]
  },
  {
   "cell_type": "code",
   "execution_count": 35,
   "metadata": {},
   "outputs": [
    {
     "name": "stdout",
     "output_type": "stream",
     "text": [
      "A is 50.\n"
     ]
    }
   ],
   "source": [
    "a = 50 #Try changing the value here (20 or any number)\n",
    "\n",
    "if a == 50:\n",
    "    print(\"A is 50.\")\n",
    "elif a == 20:\n",
    "    print(\"A is 20.\")\n",
    "else:\n",
    "    print(\"A is not 50 or 30. A is \" + str(a))"
   ]
  },
  {
   "cell_type": "markdown",
   "metadata": {
    "deletable": false,
    "editable": false
   },
   "source": [
    "# Exercise 3.2 <a id=\"ex3.2\"></a>\n",
    "\n",
    "Using conditional statements,  \n",
    "\n",
    "print ```GOAL``` if there is a goal.  \n",
    "print ```AWW``` if there is no goal.\n"
   ]
  },
  {
   "cell_type": "code",
   "execution_count": 30,
   "metadata": {},
   "outputs": [
    {
     "name": "stdout",
     "output_type": "stream",
     "text": [
      "GOAL\n"
     ]
    }
   ],
   "source": [
    "goal = True # Test your logic by changing it to False\n",
    "\n",
    "if goal: # Change your condition here\n",
    "    print(\"GOAL\")"
   ]
  },
  {
   "cell_type": "markdown",
   "metadata": {
    "deletable": false,
    "editable": false
   },
   "source": [
    "# 4. For Loops <a id=\"forloops\"></a>\n",
    "\n",
    "Repeating your logic based on lists  \n",
    "\n",
    "```python\n",
    "whoAreWe = [\"SCS\", \"ITYC\"]\n",
    "\n",
    "for who in whoAreWe:\n",
    "    print(who)\n",
    "    # Your logic here\n",
    "```"
   ]
  },
  {
   "cell_type": "markdown",
   "metadata": {
    "deletable": false,
    "editable": false
   },
   "source": [
    "# Exercise 4 <a id=\"ex4\"></a>\n",
    "\n",
    "Using for loops, print welcome to our awesome facilitator.  \n",
    "\n",
    "Expected Output:  \n",
    "```python\n",
    "Hello Yang Xiang  \n",
    "Hello Raheel\n",
    "```"
   ]
  },
  {
   "cell_type": "code",
   "execution_count": 29,
   "metadata": {},
   "outputs": [],
   "source": [
    "people = [\"Yang Xiang\", \"Raheel\"]\n",
    "\n",
    "# for ___ in ___:"
   ]
  },
  {
   "cell_type": "markdown",
   "metadata": {
    "deletable": false,
    "editable": false
   },
   "source": [
    "# 5. While Loops <a id=\"whileloops\"></a>\n",
    "\n",
    "Repeating your logic based on conditions\n",
    "\n",
    "```python\n",
    "while condition:\n",
    "    # Your logic here\n",
    "```"
   ]
  },
  {
   "cell_type": "markdown",
   "metadata": {
    "deletable": false,
    "editable": false
   },
   "source": [
    "# Exercise 5 <a id=\"ex5\"></a>\n",
    "\n",
    "Using while loops, keep saying hello until we run out of people.\n",
    "\n",
    "Expected output: \n",
    "```python\n",
    "Hello Yang Xiang  \n",
    "Hello Raheel  \n",
    "Hello Malik  \n",
    "Hello Zeldon  \n",
    "Hello Jia Rong  \n",
    "```\n",
    "\n",
    "_Tips_  \n",
    "You can use len(variable) to get the length of people in the list."
   ]
  },
  {
   "cell_type": "code",
   "execution_count": 26,
   "metadata": {},
   "outputs": [],
   "source": [
    "people = [\"Yang Xiang\", \"Raheel\", \"Malik\", \"Zeldon\", \"Jia Rong\"]\n",
    "\n",
    "# while ___:"
   ]
  },
  {
   "cell_type": "markdown",
   "metadata": {
    "deletable": false,
    "editable": false
   },
   "source": [
    "# 6. Functions <a id=\"functions\"></a>\n",
    "\n",
    "--- \n",
    "### Defining a function\n",
    "---\n",
    "\n",
    "```python\n",
    "def myFunctionName(argument1, argument2 = \"Default value\"):\n",
    "    # Logic here\n",
    "    \n",
    "    return argument1 # myFunctionName will return argument1\n",
    "```\n",
    "\n",
    "---\n",
    "### Calling a function\n",
    "\n",
    "```python\n",
    "myfunctionName(\"Hi\")\n",
    "```"
   ]
  },
  {
   "cell_type": "markdown",
   "metadata": {
    "deletable": false,
    "editable": false
   },
   "source": [
    "# Exercise 6.1 <a id=\"ex6.1\"></a>\n",
    "\n",
    "1. Create a function named '_joinName_' with 2 arguments '_firstName_' and '_lastName_'.  \n",
    "2. Join and return '_firstName_' and '_lastName_'"
   ]
  },
  {
   "cell_type": "code",
   "execution_count": 27,
   "metadata": {},
   "outputs": [],
   "source": [
    "# Code here"
   ]
  },
  {
   "cell_type": "markdown",
   "metadata": {
    "deletable": false,
    "editable": false
   },
   "source": [
    "# Exercise 6.2 <a id=\"ex6.2\"></a>\n",
    "\n",
    "1. Print the value of '_joinName_'."
   ]
  },
  {
   "cell_type": "code",
   "execution_count": 28,
   "metadata": {},
   "outputs": [],
   "source": [
    "# Code here"
   ]
  },
  {
   "cell_type": "markdown",
   "metadata": {
    "deletable": false,
    "editable": false
   },
   "source": [
    "# Summary <a id=\"summary\"></a>\n",
    "\n",
    "You have learned the basics of Python!  \n",
    "\n",
    "1. Variables\n",
    "2. Data Types\n",
    "3. Conditional Statements\n",
    "4. For loops\n",
    "5. While loops\n",
    "6. Functions"
   ]
  }
 ],
 "metadata": {
  "celltoolbar": "Edit Metadata",
  "kernelspec": {
   "display_name": "Python 3",
   "language": "python",
   "name": "python3"
  },
  "language_info": {
   "codemirror_mode": {
    "name": "ipython",
    "version": 3
   },
   "file_extension": ".py",
   "mimetype": "text/x-python",
   "name": "python",
   "nbconvert_exporter": "python",
   "pygments_lexer": "ipython3",
   "version": "3.6.5"
  }
 },
 "nbformat": 4,
 "nbformat_minor": 2
}
