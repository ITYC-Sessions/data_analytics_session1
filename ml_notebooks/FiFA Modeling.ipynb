{
 "cells": [
  {
   "cell_type": "markdown",
   "metadata": {
    "heading_collapsed": true
   },
   "source": [
    "# Libraries"
   ]
  },
  {
   "cell_type": "code",
   "execution_count": 1,
   "metadata": {
    "ExecuteTime": {
     "end_time": "2018-06-29T13:14:39.336810Z",
     "start_time": "2018-06-29T13:14:38.335187Z"
    },
    "collapsed": true,
    "hidden": true
   },
   "outputs": [],
   "source": [
    "# Note book settings\n",
    "%load_ext autoreload\n",
    "%autoreload 2\n",
    "%matplotlib inline\n",
    "\n",
    "from IPython.display import Image, display\n",
    "import warnings\n",
    "warnings.simplefilter(\"ignore\")"
   ]
  },
  {
   "cell_type": "code",
   "execution_count": 2,
   "metadata": {
    "ExecuteTime": {
     "end_time": "2018-06-29T13:14:44.252906Z",
     "start_time": "2018-06-29T13:14:41.494368Z"
    },
    "collapsed": true,
    "hidden": true
   },
   "outputs": [],
   "source": [
    "# data manipulation libraries\n",
    "import numpy as np\n",
    "import pandas as pd\n",
    "\n",
    "# machine learing\n",
    "from sklearn import tree\n",
    "from sklearn.tree import DecisionTreeClassifier, export_graphviz\n",
    "import pydot # decision tree visualization\n",
    "\n",
    "from sklearn.ensemble import RandomForestClassifier\n",
    "from sklearn.metrics import accuracy_score, confusion_matrix, classification_report, roc_auc_score\n",
    "from sklearn.model_selection import train_test_split, cross_val_score\n",
    "\n",
    "# utilities\n",
    "from time import time\n",
    "from functions import *"
   ]
  },
  {
   "cell_type": "markdown",
   "metadata": {
    "heading_collapsed": true
   },
   "source": [
    "# Contents"
   ]
  },
  {
   "cell_type": "markdown",
   "metadata": {
    "hidden": true
   },
   "source": [
    "1. [Datasets](#datasets)\n",
    "   * [Background](#background)  \n",
    "   * [Load Datasets](#loaddatasets)  \n",
    "   * [Rough Dataset Understanding](#roughdatasetunderstanding)  \n",
    "   * \n",
    "\n",
    "2. [Feature Engineering](#featureengineering)  \n",
    "3. [Final Prep for Input Dataset](#finalprepforinputdataset)\n",
    "    * [Labeling](#labeling)\n",
    "    * [Train Test Split](#traintestsplit)  \n",
    "    *  \n",
    "   \n",
    "4. [Model Training](#modeltraining)  \n",
    "5. [Evaluation](#evaluation)  \n",
    "   * [Simple Evaluation](#simpleevaluation)  \n",
    "   * [Confused Evaluation](#confusedevaluation) \n",
    "   * [Feature Importance](#featureimportance)  \n",
    "   *  \n",
    "\n",
    "6. [Further References](#furtherreferences)  "
   ]
  },
  {
   "cell_type": "markdown",
   "metadata": {
    "heading_collapsed": true
   },
   "source": [
    "# Dataset <a id=\"datasets\"></a>"
   ]
  },
  {
   "cell_type": "markdown",
   "metadata": {
    "heading_collapsed": true,
    "hidden": true
   },
   "source": [
    "### Background <a id=\"background\"></a>"
   ]
  },
  {
   "cell_type": "markdown",
   "metadata": {
    "hidden": true
   },
   "source": [
    "Sourced from : https://www.kaggle.com/hugomathien/soccer/home\n",
    "\n",
    "**The ultimate Soccer database for data analysis and machine learning**  \n",
    "What you get:\n",
    "\n",
    "- +25,000 matches  \n",
    "- +10,000 players  \n",
    "- 11 European Countries with their lead championship  \n",
    "- Seasons 2008 to 2016  \n",
    "- Players and Teams' attributes* sourced from EA Sports' FIFA video game series, including the weekly updates  \n",
    "- Team line up with squad formation (X, Y coordinates)  \n",
    "- Betting odds from up to 10 providers  \n",
    "- Detailed match events (goal types, possession, corner, cross, fouls, cards etc...) for +10,000 matches  \n",
    "\n",
    "\n",
    "*16th Oct 2016: New table containing teams' attributes from FIFA !  "
   ]
  },
  {
   "cell_type": "markdown",
   "metadata": {
    "hidden": true
   },
   "source": [
    "**Original Data Source**:\n",
    "\n",
    "You can easily find data about soccer matches but they are usually scattered across different websites. A thorough data collection and processing has been done to make your life easier. I must insist that you do not make any commercial use of the data. The data was sourced from:\n",
    "\n",
    "http://football-data.mx-api.enetscores.com/ : scores, lineup, team formation and events\n",
    "\n",
    "http://www.football-data.co.uk/ : betting odds. Click here to understand the column naming system for betting odds:\n",
    "\n",
    "http://sofifa.com/ : players and teams attributes from EA Sports FIFA games. FIFA series and all FIFA assets property of EA Sports.\n",
    "\n",
    "When you have a look at the database, you will notice foreign keys for players and matches are the same as the original data sources. I have called those foreign keys \"api_id\"."
   ]
  },
  {
   "cell_type": "markdown",
   "metadata": {
    "hidden": true
   },
   "source": [
    "**From Author:**  \n",
    "*\"You will notice that some players are missing from the lineup (NULL values). This is because I have not been able to source their attributes from FIFA. This will be fixed overtime as the crawling algorithm is being improved. The dataset will also be expanded to include international games, national cups, Champion's League and Europa League.\"*"
   ]
  },
  {
   "cell_type": "markdown",
   "metadata": {
    "hidden": true
   },
   "source": [
    "**Final Notes**:  \n",
    "\n",
    "The bookies use 3 classes (Home Win, Draw, Away Win). They get it right about 53% of the time. This is also what I've achieved so far using my own SVM. Though it may sound high for such a random sport game, you've got to know that the home team wins about 46% of the time. So the base case (constantly predicting Home Win) has indeed 46% precision.\n",
    "\n",
    "When running a multi-class classifier like SVM you could also output a probability estimate and compare it to the betting odds. Have a look at your variance vs odds and see for what games you had very different predictions."
   ]
  },
  {
   "cell_type": "markdown",
   "metadata": {
    "heading_collapsed": true,
    "hidden": true
   },
   "source": [
    "### Load Datasets <a id=\"loaddatasets\"></a>"
   ]
  },
  {
   "cell_type": "code",
   "execution_count": 3,
   "metadata": {
    "ExecuteTime": {
     "end_time": "2018-06-29T13:15:01.555922Z",
     "start_time": "2018-06-29T13:14:56.090109Z"
    },
    "collapsed": true,
    "hidden": true
   },
   "outputs": [],
   "source": [
    "country = pd.read_csv('../data/main_Country.csv')\n",
    "league = pd.read_csv('../data/main_League.csv')\n",
    "match = pd.read_csv('../data/main_Match.csv', parse_dates=[\"date\"])\n",
    "playerAttr = pd.read_csv('../data/main_Player_Attributes.csv', parse_dates=[\"date\"])\n",
    "player_p1 = pd.read_csv('../data/main_Player_part1.csv', parse_dates=[\"birthday\"])\n",
    "player_p2 = pd.read_csv('../data/main_Player_part2.csv', parse_dates=[\"birthday\"])\n",
    "team = pd.read_csv('../data/main_Team.csv')\n",
    "teamAttr = pd.read_csv('../data/main_Team_Attributes.csv', parse_dates=[\"date\"])"
   ]
  },
  {
   "cell_type": "code",
   "execution_count": 4,
   "metadata": {
    "ExecuteTime": {
     "end_time": "2018-06-29T13:15:03.826071Z",
     "start_time": "2018-06-29T13:15:03.582018Z"
    },
    "collapsed": true,
    "hidden": true
   },
   "outputs": [],
   "source": [
    "# merge player1 and player2 table\n",
    "players = player_p1.append(player_p2)"
   ]
  },
  {
   "cell_type": "markdown",
   "metadata": {
    "hidden": true
   },
   "source": [
    "### Rough Dataset Understanding <a id=\"roughdatasetunderstanding\"></a>"
   ]
  },
  {
   "cell_type": "markdown",
   "metadata": {
    "heading_collapsed": true,
    "hidden": true
   },
   "source": [
    "#### Country"
   ]
  },
  {
   "cell_type": "code",
   "execution_count": 5,
   "metadata": {
    "ExecuteTime": {
     "end_time": "2018-06-29T13:15:12.139870Z",
     "start_time": "2018-06-29T13:15:11.887809Z"
    },
    "hidden": true
   },
   "outputs": [
    {
     "name": "stdout",
     "output_type": "stream",
     "text": [
      "dataframe shape: (11, 2)\n"
     ]
    },
    {
     "data": {
      "text/html": [
       "<div>\n",
       "<style>\n",
       "    .dataframe thead tr:only-child th {\n",
       "        text-align: right;\n",
       "    }\n",
       "\n",
       "    .dataframe thead th {\n",
       "        text-align: left;\n",
       "    }\n",
       "\n",
       "    .dataframe tbody tr th {\n",
       "        vertical-align: top;\n",
       "    }\n",
       "</style>\n",
       "<table border=\"1\" class=\"dataframe\">\n",
       "  <thead>\n",
       "    <tr style=\"text-align: right;\">\n",
       "      <th></th>\n",
       "      <th>id</th>\n",
       "      <th>name</th>\n",
       "    </tr>\n",
       "  </thead>\n",
       "  <tbody>\n",
       "    <tr>\n",
       "      <th>0</th>\n",
       "      <td>1</td>\n",
       "      <td>Belgium</td>\n",
       "    </tr>\n",
       "    <tr>\n",
       "      <th>1</th>\n",
       "      <td>1729</td>\n",
       "      <td>England</td>\n",
       "    </tr>\n",
       "    <tr>\n",
       "      <th>2</th>\n",
       "      <td>4769</td>\n",
       "      <td>France</td>\n",
       "    </tr>\n",
       "    <tr>\n",
       "      <th>3</th>\n",
       "      <td>7809</td>\n",
       "      <td>Germany</td>\n",
       "    </tr>\n",
       "    <tr>\n",
       "      <th>4</th>\n",
       "      <td>10257</td>\n",
       "      <td>Italy</td>\n",
       "    </tr>\n",
       "  </tbody>\n",
       "</table>\n",
       "</div>"
      ],
      "text/plain": [
       "      id     name\n",
       "0      1  Belgium\n",
       "1   1729  England\n",
       "2   4769   France\n",
       "3   7809  Germany\n",
       "4  10257    Italy"
      ]
     },
     "execution_count": 5,
     "metadata": {},
     "output_type": "execute_result"
    }
   ],
   "source": [
    "# shape of country df\n",
    "print('dataframe shape: {}'.format(country.shape))\n",
    "country.head()"
   ]
  },
  {
   "cell_type": "code",
   "execution_count": 6,
   "metadata": {
    "ExecuteTime": {
     "end_time": "2018-06-29T13:15:12.375966Z",
     "start_time": "2018-06-29T13:15:12.143879Z"
    },
    "hidden": true
   },
   "outputs": [
    {
     "data": {
      "text/plain": [
       "array(['Belgium', 'England', 'France', 'Germany', 'Italy', 'Netherlands',\n",
       "       'Poland', 'Portugal', 'Scotland', 'Spain', 'Switzerland'], dtype=object)"
      ]
     },
     "execution_count": 6,
     "metadata": {},
     "output_type": "execute_result"
    }
   ],
   "source": [
    "# unique names of the countries\n",
    "country.name.unique()"
   ]
  },
  {
   "cell_type": "markdown",
   "metadata": {
    "heading_collapsed": true,
    "hidden": true
   },
   "source": [
    "#### League"
   ]
  },
  {
   "cell_type": "code",
   "execution_count": 7,
   "metadata": {
    "ExecuteTime": {
     "end_time": "2018-06-29T13:15:17.464223Z",
     "start_time": "2018-06-29T13:15:17.209149Z"
    },
    "hidden": true,
    "scrolled": true
   },
   "outputs": [
    {
     "name": "stdout",
     "output_type": "stream",
     "text": [
      "dataframe shape: (11, 3)\n"
     ]
    },
    {
     "data": {
      "text/html": [
       "<div>\n",
       "<style>\n",
       "    .dataframe thead tr:only-child th {\n",
       "        text-align: right;\n",
       "    }\n",
       "\n",
       "    .dataframe thead th {\n",
       "        text-align: left;\n",
       "    }\n",
       "\n",
       "    .dataframe tbody tr th {\n",
       "        vertical-align: top;\n",
       "    }\n",
       "</style>\n",
       "<table border=\"1\" class=\"dataframe\">\n",
       "  <thead>\n",
       "    <tr style=\"text-align: right;\">\n",
       "      <th></th>\n",
       "      <th>id</th>\n",
       "      <th>country_id</th>\n",
       "      <th>name</th>\n",
       "    </tr>\n",
       "  </thead>\n",
       "  <tbody>\n",
       "    <tr>\n",
       "      <th>0</th>\n",
       "      <td>1</td>\n",
       "      <td>1</td>\n",
       "      <td>Belgium Jupiler League</td>\n",
       "    </tr>\n",
       "    <tr>\n",
       "      <th>1</th>\n",
       "      <td>1729</td>\n",
       "      <td>1729</td>\n",
       "      <td>England Premier League</td>\n",
       "    </tr>\n",
       "    <tr>\n",
       "      <th>2</th>\n",
       "      <td>4769</td>\n",
       "      <td>4769</td>\n",
       "      <td>France Ligue 1</td>\n",
       "    </tr>\n",
       "    <tr>\n",
       "      <th>3</th>\n",
       "      <td>7809</td>\n",
       "      <td>7809</td>\n",
       "      <td>Germany 1. Bundesliga</td>\n",
       "    </tr>\n",
       "    <tr>\n",
       "      <th>4</th>\n",
       "      <td>10257</td>\n",
       "      <td>10257</td>\n",
       "      <td>Italy Serie A</td>\n",
       "    </tr>\n",
       "  </tbody>\n",
       "</table>\n",
       "</div>"
      ],
      "text/plain": [
       "      id  country_id                    name\n",
       "0      1           1  Belgium Jupiler League\n",
       "1   1729        1729  England Premier League\n",
       "2   4769        4769          France Ligue 1\n",
       "3   7809        7809   Germany 1. Bundesliga\n",
       "4  10257       10257           Italy Serie A"
      ]
     },
     "execution_count": 7,
     "metadata": {},
     "output_type": "execute_result"
    }
   ],
   "source": [
    "# shape of league df\n",
    "print(f'dataframe shape: {league.shape}')\n",
    "league.head()"
   ]
  },
  {
   "cell_type": "code",
   "execution_count": 8,
   "metadata": {
    "ExecuteTime": {
     "end_time": "2018-06-29T13:15:17.697265Z",
     "start_time": "2018-06-29T13:15:17.467223Z"
    },
    "hidden": true
   },
   "outputs": [
    {
     "data": {
      "text/plain": [
       "array(['Belgium Jupiler League', 'England Premier League',\n",
       "       'France Ligue 1', 'Germany 1. Bundesliga', 'Italy Serie A',\n",
       "       'Netherlands Eredivisie', 'Poland Ekstraklasa',\n",
       "       'Portugal Liga ZON Sagres', 'Scotland Premier League',\n",
       "       'Spain LIGA BBVA', 'Switzerland Super League'], dtype=object)"
      ]
     },
     "execution_count": 8,
     "metadata": {},
     "output_type": "execute_result"
    }
   ],
   "source": [
    "# unique league names\n",
    "league.name.unique()"
   ]
  },
  {
   "cell_type": "markdown",
   "metadata": {
    "heading_collapsed": true,
    "hidden": true
   },
   "source": [
    "#### <div style=\"color:blue\">Match</div>"
   ]
  },
  {
   "cell_type": "code",
   "execution_count": 9,
   "metadata": {
    "ExecuteTime": {
     "end_time": "2018-06-29T13:15:25.182199Z",
     "start_time": "2018-06-29T13:15:24.905889Z"
    },
    "hidden": true
   },
   "outputs": [
    {
     "name": "stdout",
     "output_type": "stream",
     "text": [
      "dataframe shape: (25979, 115)\n"
     ]
    },
    {
     "data": {
      "text/html": [
       "<div>\n",
       "<style>\n",
       "    .dataframe thead tr:only-child th {\n",
       "        text-align: right;\n",
       "    }\n",
       "\n",
       "    .dataframe thead th {\n",
       "        text-align: left;\n",
       "    }\n",
       "\n",
       "    .dataframe tbody tr th {\n",
       "        vertical-align: top;\n",
       "    }\n",
       "</style>\n",
       "<table border=\"1\" class=\"dataframe\">\n",
       "  <thead>\n",
       "    <tr style=\"text-align: right;\">\n",
       "      <th></th>\n",
       "      <th>id</th>\n",
       "      <th>country_id</th>\n",
       "      <th>league_id</th>\n",
       "      <th>season</th>\n",
       "      <th>stage</th>\n",
       "      <th>date</th>\n",
       "      <th>match_api_id</th>\n",
       "      <th>home_team_api_id</th>\n",
       "      <th>away_team_api_id</th>\n",
       "      <th>home_team_goal</th>\n",
       "      <th>...</th>\n",
       "      <th>SJA</th>\n",
       "      <th>VCH</th>\n",
       "      <th>VCD</th>\n",
       "      <th>VCA</th>\n",
       "      <th>GBH</th>\n",
       "      <th>GBD</th>\n",
       "      <th>GBA</th>\n",
       "      <th>BSH</th>\n",
       "      <th>BSD</th>\n",
       "      <th>BSA</th>\n",
       "    </tr>\n",
       "  </thead>\n",
       "  <tbody>\n",
       "    <tr>\n",
       "      <th>0</th>\n",
       "      <td>1</td>\n",
       "      <td>1</td>\n",
       "      <td>1</td>\n",
       "      <td>2008/2009</td>\n",
       "      <td>1</td>\n",
       "      <td>2008-08-17</td>\n",
       "      <td>492473</td>\n",
       "      <td>9987</td>\n",
       "      <td>9993</td>\n",
       "      <td>1</td>\n",
       "      <td>...</td>\n",
       "      <td>4.0</td>\n",
       "      <td>1.65</td>\n",
       "      <td>3.40</td>\n",
       "      <td>4.50</td>\n",
       "      <td>1.78</td>\n",
       "      <td>3.25</td>\n",
       "      <td>4.00</td>\n",
       "      <td>1.73</td>\n",
       "      <td>3.40</td>\n",
       "      <td>4.20</td>\n",
       "    </tr>\n",
       "    <tr>\n",
       "      <th>1</th>\n",
       "      <td>2</td>\n",
       "      <td>1</td>\n",
       "      <td>1</td>\n",
       "      <td>2008/2009</td>\n",
       "      <td>1</td>\n",
       "      <td>2008-08-16</td>\n",
       "      <td>492474</td>\n",
       "      <td>10000</td>\n",
       "      <td>9994</td>\n",
       "      <td>0</td>\n",
       "      <td>...</td>\n",
       "      <td>3.8</td>\n",
       "      <td>2.00</td>\n",
       "      <td>3.25</td>\n",
       "      <td>3.25</td>\n",
       "      <td>1.85</td>\n",
       "      <td>3.25</td>\n",
       "      <td>3.75</td>\n",
       "      <td>1.91</td>\n",
       "      <td>3.25</td>\n",
       "      <td>3.60</td>\n",
       "    </tr>\n",
       "    <tr>\n",
       "      <th>2</th>\n",
       "      <td>3</td>\n",
       "      <td>1</td>\n",
       "      <td>1</td>\n",
       "      <td>2008/2009</td>\n",
       "      <td>1</td>\n",
       "      <td>2008-08-16</td>\n",
       "      <td>492475</td>\n",
       "      <td>9984</td>\n",
       "      <td>8635</td>\n",
       "      <td>0</td>\n",
       "      <td>...</td>\n",
       "      <td>2.5</td>\n",
       "      <td>2.35</td>\n",
       "      <td>3.25</td>\n",
       "      <td>2.65</td>\n",
       "      <td>2.50</td>\n",
       "      <td>3.20</td>\n",
       "      <td>2.50</td>\n",
       "      <td>2.30</td>\n",
       "      <td>3.20</td>\n",
       "      <td>2.75</td>\n",
       "    </tr>\n",
       "  </tbody>\n",
       "</table>\n",
       "<p>3 rows × 115 columns</p>\n",
       "</div>"
      ],
      "text/plain": [
       "   id  country_id  league_id     season  stage       date  match_api_id  \\\n",
       "0   1           1          1  2008/2009      1 2008-08-17        492473   \n",
       "1   2           1          1  2008/2009      1 2008-08-16        492474   \n",
       "2   3           1          1  2008/2009      1 2008-08-16        492475   \n",
       "\n",
       "   home_team_api_id  away_team_api_id  home_team_goal  ...   SJA   VCH   VCD  \\\n",
       "0              9987              9993               1  ...   4.0  1.65  3.40   \n",
       "1             10000              9994               0  ...   3.8  2.00  3.25   \n",
       "2              9984              8635               0  ...   2.5  2.35  3.25   \n",
       "\n",
       "    VCA   GBH   GBD   GBA   BSH   BSD   BSA  \n",
       "0  4.50  1.78  3.25  4.00  1.73  3.40  4.20  \n",
       "1  3.25  1.85  3.25  3.75  1.91  3.25  3.60  \n",
       "2  2.65  2.50  3.20  2.50  2.30  3.20  2.75  \n",
       "\n",
       "[3 rows x 115 columns]"
      ]
     },
     "execution_count": 9,
     "metadata": {},
     "output_type": "execute_result"
    }
   ],
   "source": [
    "# print shape of Match df (25979 rows) and first 3 rows\n",
    "print(f'dataframe shape: {match.shape}')\n",
    "match.head(3)"
   ]
  },
  {
   "cell_type": "code",
   "execution_count": 10,
   "metadata": {
    "ExecuteTime": {
     "end_time": "2018-06-29T13:15:25.426246Z",
     "start_time": "2018-06-29T13:15:25.185193Z"
    },
    "hidden": true
   },
   "outputs": [
    {
     "data": {
      "text/html": [
       "<div>\n",
       "<style>\n",
       "    .dataframe thead tr:only-child th {\n",
       "        text-align: right;\n",
       "    }\n",
       "\n",
       "    .dataframe thead th {\n",
       "        text-align: left;\n",
       "    }\n",
       "\n",
       "    .dataframe tbody tr th {\n",
       "        vertical-align: top;\n",
       "    }\n",
       "</style>\n",
       "<table border=\"1\" class=\"dataframe\">\n",
       "  <thead>\n",
       "    <tr style=\"text-align: right;\">\n",
       "      <th></th>\n",
       "      <th>id</th>\n",
       "      <th>country_id</th>\n",
       "      <th>league_id</th>\n",
       "      <th>season</th>\n",
       "      <th>stage</th>\n",
       "      <th>date</th>\n",
       "      <th>match_api_id</th>\n",
       "      <th>home_team_api_id</th>\n",
       "      <th>away_team_api_id</th>\n",
       "      <th>home_team_goal</th>\n",
       "      <th>away_team_goal</th>\n",
       "    </tr>\n",
       "  </thead>\n",
       "  <tbody>\n",
       "    <tr>\n",
       "      <th>0</th>\n",
       "      <td>1</td>\n",
       "      <td>1</td>\n",
       "      <td>1</td>\n",
       "      <td>2008/2009</td>\n",
       "      <td>1</td>\n",
       "      <td>2008-08-17</td>\n",
       "      <td>492473</td>\n",
       "      <td>9987</td>\n",
       "      <td>9993</td>\n",
       "      <td>1</td>\n",
       "      <td>1</td>\n",
       "    </tr>\n",
       "    <tr>\n",
       "      <th>1</th>\n",
       "      <td>2</td>\n",
       "      <td>1</td>\n",
       "      <td>1</td>\n",
       "      <td>2008/2009</td>\n",
       "      <td>1</td>\n",
       "      <td>2008-08-16</td>\n",
       "      <td>492474</td>\n",
       "      <td>10000</td>\n",
       "      <td>9994</td>\n",
       "      <td>0</td>\n",
       "      <td>0</td>\n",
       "    </tr>\n",
       "    <tr>\n",
       "      <th>2</th>\n",
       "      <td>3</td>\n",
       "      <td>1</td>\n",
       "      <td>1</td>\n",
       "      <td>2008/2009</td>\n",
       "      <td>1</td>\n",
       "      <td>2008-08-16</td>\n",
       "      <td>492475</td>\n",
       "      <td>9984</td>\n",
       "      <td>8635</td>\n",
       "      <td>0</td>\n",
       "      <td>3</td>\n",
       "    </tr>\n",
       "    <tr>\n",
       "      <th>3</th>\n",
       "      <td>4</td>\n",
       "      <td>1</td>\n",
       "      <td>1</td>\n",
       "      <td>2008/2009</td>\n",
       "      <td>1</td>\n",
       "      <td>2008-08-17</td>\n",
       "      <td>492476</td>\n",
       "      <td>9991</td>\n",
       "      <td>9998</td>\n",
       "      <td>5</td>\n",
       "      <td>0</td>\n",
       "    </tr>\n",
       "    <tr>\n",
       "      <th>4</th>\n",
       "      <td>5</td>\n",
       "      <td>1</td>\n",
       "      <td>1</td>\n",
       "      <td>2008/2009</td>\n",
       "      <td>1</td>\n",
       "      <td>2008-08-16</td>\n",
       "      <td>492477</td>\n",
       "      <td>7947</td>\n",
       "      <td>9985</td>\n",
       "      <td>1</td>\n",
       "      <td>3</td>\n",
       "    </tr>\n",
       "  </tbody>\n",
       "</table>\n",
       "</div>"
      ],
      "text/plain": [
       "   id  country_id  league_id     season  stage       date  match_api_id  \\\n",
       "0   1           1          1  2008/2009      1 2008-08-17        492473   \n",
       "1   2           1          1  2008/2009      1 2008-08-16        492474   \n",
       "2   3           1          1  2008/2009      1 2008-08-16        492475   \n",
       "3   4           1          1  2008/2009      1 2008-08-17        492476   \n",
       "4   5           1          1  2008/2009      1 2008-08-16        492477   \n",
       "\n",
       "   home_team_api_id  away_team_api_id  home_team_goal  away_team_goal  \n",
       "0              9987              9993               1               1  \n",
       "1             10000              9994               0               0  \n",
       "2              9984              8635               0               3  \n",
       "3              9991              9998               5               0  \n",
       "4              7947              9985               1               3  "
      ]
     },
     "execution_count": 10,
     "metadata": {},
     "output_type": "execute_result"
    }
   ],
   "source": [
    "# match column names (1st 11) : id columns and match resuts\n",
    "\n",
    "#match.columns[:11]\n",
    "match.iloc[:,:11].head()"
   ]
  },
  {
   "cell_type": "code",
   "execution_count": 11,
   "metadata": {
    "ExecuteTime": {
     "end_time": "2018-06-29T13:15:25.722125Z",
     "start_time": "2018-06-29T13:15:25.431252Z"
    },
    "hidden": true
   },
   "outputs": [
    {
     "data": {
      "text/html": [
       "<div>\n",
       "<style>\n",
       "    .dataframe thead tr:only-child th {\n",
       "        text-align: right;\n",
       "    }\n",
       "\n",
       "    .dataframe thead th {\n",
       "        text-align: left;\n",
       "    }\n",
       "\n",
       "    .dataframe tbody tr th {\n",
       "        vertical-align: top;\n",
       "    }\n",
       "</style>\n",
       "<table border=\"1\" class=\"dataframe\">\n",
       "  <thead>\n",
       "    <tr style=\"text-align: right;\">\n",
       "      <th></th>\n",
       "      <th>home_player_1</th>\n",
       "      <th>home_player_2</th>\n",
       "      <th>home_player_3</th>\n",
       "      <th>home_player_4</th>\n",
       "      <th>home_player_5</th>\n",
       "      <th>home_player_6</th>\n",
       "      <th>home_player_7</th>\n",
       "      <th>home_player_8</th>\n",
       "      <th>home_player_9</th>\n",
       "      <th>home_player_10</th>\n",
       "      <th>home_player_11</th>\n",
       "    </tr>\n",
       "  </thead>\n",
       "  <tbody>\n",
       "    <tr>\n",
       "      <th>144</th>\n",
       "      <td>39890.0</td>\n",
       "      <td>NaN</td>\n",
       "      <td>38788.0</td>\n",
       "      <td>38312.0</td>\n",
       "      <td>26235.0</td>\n",
       "      <td>NaN</td>\n",
       "      <td>NaN</td>\n",
       "      <td>NaN</td>\n",
       "      <td>26916.0</td>\n",
       "      <td>NaN</td>\n",
       "      <td>94289.0</td>\n",
       "    </tr>\n",
       "    <tr>\n",
       "      <th>145</th>\n",
       "      <td>38327.0</td>\n",
       "      <td>67950.0</td>\n",
       "      <td>67958.0</td>\n",
       "      <td>67959.0</td>\n",
       "      <td>37112.0</td>\n",
       "      <td>36393.0</td>\n",
       "      <td>148286.0</td>\n",
       "      <td>67898.0</td>\n",
       "      <td>164352.0</td>\n",
       "      <td>38801.0</td>\n",
       "      <td>26502.0</td>\n",
       "    </tr>\n",
       "    <tr>\n",
       "      <th>146</th>\n",
       "      <td>95597.0</td>\n",
       "      <td>NaN</td>\n",
       "      <td>NaN</td>\n",
       "      <td>38435.0</td>\n",
       "      <td>94462.0</td>\n",
       "      <td>46004.0</td>\n",
       "      <td>164732.0</td>\n",
       "      <td>NaN</td>\n",
       "      <td>38246.0</td>\n",
       "      <td>38423.0</td>\n",
       "      <td>38419.0</td>\n",
       "    </tr>\n",
       "    <tr>\n",
       "      <th>147</th>\n",
       "      <td>NaN</td>\n",
       "      <td>39580.0</td>\n",
       "      <td>30692.0</td>\n",
       "      <td>37861.0</td>\n",
       "      <td>47411.0</td>\n",
       "      <td>119117.0</td>\n",
       "      <td>35412.0</td>\n",
       "      <td>39631.0</td>\n",
       "      <td>39591.0</td>\n",
       "      <td>25957.0</td>\n",
       "      <td>38369.0</td>\n",
       "    </tr>\n",
       "    <tr>\n",
       "      <th>148</th>\n",
       "      <td>30934.0</td>\n",
       "      <td>38292.0</td>\n",
       "      <td>11569.0</td>\n",
       "      <td>38273.0</td>\n",
       "      <td>14642.0</td>\n",
       "      <td>38945.0</td>\n",
       "      <td>38290.0</td>\n",
       "      <td>95609.0</td>\n",
       "      <td>38257.0</td>\n",
       "      <td>NaN</td>\n",
       "      <td>121639.0</td>\n",
       "    </tr>\n",
       "  </tbody>\n",
       "</table>\n",
       "</div>"
      ],
      "text/plain": [
       "     home_player_1  home_player_2  home_player_3  home_player_4  \\\n",
       "144        39890.0            NaN        38788.0        38312.0   \n",
       "145        38327.0        67950.0        67958.0        67959.0   \n",
       "146        95597.0            NaN            NaN        38435.0   \n",
       "147            NaN        39580.0        30692.0        37861.0   \n",
       "148        30934.0        38292.0        11569.0        38273.0   \n",
       "\n",
       "     home_player_5  home_player_6  home_player_7  home_player_8  \\\n",
       "144        26235.0            NaN            NaN            NaN   \n",
       "145        37112.0        36393.0       148286.0        67898.0   \n",
       "146        94462.0        46004.0       164732.0            NaN   \n",
       "147        47411.0       119117.0        35412.0        39631.0   \n",
       "148        14642.0        38945.0        38290.0        95609.0   \n",
       "\n",
       "     home_player_9  home_player_10  home_player_11  \n",
       "144        26916.0             NaN         94289.0  \n",
       "145       164352.0         38801.0         26502.0  \n",
       "146        38246.0         38423.0         38419.0  \n",
       "147        39591.0         25957.0         38369.0  \n",
       "148        38257.0             NaN        121639.0  "
      ]
     },
     "execution_count": 11,
     "metadata": {},
     "output_type": "execute_result"
    }
   ],
   "source": [
    "# match colun 55 to 66 : home player ids\n",
    "\n",
    "#match.columns[55 :66]\n",
    "match[match.iloc[:,55 :66].notnull().any(axis=1)].iloc[:5,55 :66] # get rows with non-nulls in columns 55 :66"
   ]
  },
  {
   "cell_type": "code",
   "execution_count": 12,
   "metadata": {
    "ExecuteTime": {
     "end_time": "2018-06-29T13:15:26.070210Z",
     "start_time": "2018-06-29T13:15:25.726149Z"
    },
    "hidden": true,
    "scrolled": true
   },
   "outputs": [
    {
     "data": {
      "text/html": [
       "<div>\n",
       "<style>\n",
       "    .dataframe thead tr:only-child th {\n",
       "        text-align: right;\n",
       "    }\n",
       "\n",
       "    .dataframe thead th {\n",
       "        text-align: left;\n",
       "    }\n",
       "\n",
       "    .dataframe tbody tr th {\n",
       "        vertical-align: top;\n",
       "    }\n",
       "</style>\n",
       "<table border=\"1\" class=\"dataframe\">\n",
       "  <thead>\n",
       "    <tr style=\"text-align: right;\">\n",
       "      <th></th>\n",
       "      <th>away_player_1</th>\n",
       "      <th>away_player_2</th>\n",
       "      <th>away_player_3</th>\n",
       "      <th>away_player_4</th>\n",
       "      <th>away_player_5</th>\n",
       "      <th>away_player_6</th>\n",
       "      <th>away_player_7</th>\n",
       "      <th>away_player_8</th>\n",
       "      <th>away_player_9</th>\n",
       "      <th>away_player_10</th>\n",
       "      <th>away_player_11</th>\n",
       "    </tr>\n",
       "  </thead>\n",
       "  <tbody>\n",
       "    <tr>\n",
       "      <th>144</th>\n",
       "      <td>34480.0</td>\n",
       "      <td>38388.0</td>\n",
       "      <td>26458.0</td>\n",
       "      <td>13423.0</td>\n",
       "      <td>38389.0</td>\n",
       "      <td>38798.0</td>\n",
       "      <td>30949.0</td>\n",
       "      <td>38253.0</td>\n",
       "      <td>106013.0</td>\n",
       "      <td>38383.0</td>\n",
       "      <td>46552.0</td>\n",
       "    </tr>\n",
       "    <tr>\n",
       "      <th>145</th>\n",
       "      <td>37937.0</td>\n",
       "      <td>38293.0</td>\n",
       "      <td>148313.0</td>\n",
       "      <td>104411.0</td>\n",
       "      <td>148314.0</td>\n",
       "      <td>37202.0</td>\n",
       "      <td>43158.0</td>\n",
       "      <td>9307.0</td>\n",
       "      <td>42153.0</td>\n",
       "      <td>32690.0</td>\n",
       "      <td>38782.0</td>\n",
       "    </tr>\n",
       "    <tr>\n",
       "      <th>146</th>\n",
       "      <td>38252.0</td>\n",
       "      <td>39156.0</td>\n",
       "      <td>39151.0</td>\n",
       "      <td>166554.0</td>\n",
       "      <td>15652.0</td>\n",
       "      <td>39145.0</td>\n",
       "      <td>46890.0</td>\n",
       "      <td>38947.0</td>\n",
       "      <td>46881.0</td>\n",
       "      <td>39158.0</td>\n",
       "      <td>119118.0</td>\n",
       "    </tr>\n",
       "    <tr>\n",
       "      <th>147</th>\n",
       "      <td>36835.0</td>\n",
       "      <td>37047.0</td>\n",
       "      <td>37021.0</td>\n",
       "      <td>38186.0</td>\n",
       "      <td>27110.0</td>\n",
       "      <td>32863.0</td>\n",
       "      <td>37957.0</td>\n",
       "      <td>37909.0</td>\n",
       "      <td>104386.0</td>\n",
       "      <td>38251.0</td>\n",
       "      <td>37065.0</td>\n",
       "    </tr>\n",
       "    <tr>\n",
       "      <th>148</th>\n",
       "      <td>104378.0</td>\n",
       "      <td>27838.0</td>\n",
       "      <td>36841.0</td>\n",
       "      <td>38337.0</td>\n",
       "      <td>NaN</td>\n",
       "      <td>33662.0</td>\n",
       "      <td>37044.0</td>\n",
       "      <td>32760.0</td>\n",
       "      <td>38229.0</td>\n",
       "      <td>12574.0</td>\n",
       "      <td>46335.0</td>\n",
       "    </tr>\n",
       "  </tbody>\n",
       "</table>\n",
       "</div>"
      ],
      "text/plain": [
       "     away_player_1  away_player_2  away_player_3  away_player_4  \\\n",
       "144        34480.0        38388.0        26458.0        13423.0   \n",
       "145        37937.0        38293.0       148313.0       104411.0   \n",
       "146        38252.0        39156.0        39151.0       166554.0   \n",
       "147        36835.0        37047.0        37021.0        38186.0   \n",
       "148       104378.0        27838.0        36841.0        38337.0   \n",
       "\n",
       "     away_player_5  away_player_6  away_player_7  away_player_8  \\\n",
       "144        38389.0        38798.0        30949.0        38253.0   \n",
       "145       148314.0        37202.0        43158.0         9307.0   \n",
       "146        15652.0        39145.0        46890.0        38947.0   \n",
       "147        27110.0        32863.0        37957.0        37909.0   \n",
       "148            NaN        33662.0        37044.0        32760.0   \n",
       "\n",
       "     away_player_9  away_player_10  away_player_11  \n",
       "144       106013.0         38383.0         46552.0  \n",
       "145        42153.0         32690.0         38782.0  \n",
       "146        46881.0         39158.0        119118.0  \n",
       "147       104386.0         38251.0         37065.0  \n",
       "148        38229.0         12574.0         46335.0  "
      ]
     },
     "execution_count": 12,
     "metadata": {},
     "output_type": "execute_result"
    }
   ],
   "source": [
    "#  match colun 66 to 77 : home player ids\n",
    "\n",
    "#match.columns[66 :77]\n",
    "match[match.iloc[:,66 :77].notnull().any(axis=1)].iloc[:5,66 :77] # get rows with non-nulls in columns 66 :77"
   ]
  },
  {
   "cell_type": "markdown",
   "metadata": {
    "heading_collapsed": true,
    "hidden": true
   },
   "source": [
    "#### Players Table"
   ]
  },
  {
   "cell_type": "code",
   "execution_count": 13,
   "metadata": {
    "ExecuteTime": {
     "end_time": "2018-06-29T13:17:12.273389Z",
     "start_time": "2018-06-29T13:17:12.023349Z"
    },
    "hidden": true,
    "scrolled": false
   },
   "outputs": [
    {
     "name": "stdout",
     "output_type": "stream",
     "text": [
      "(11060, 7)\n"
     ]
    },
    {
     "data": {
      "text/html": [
       "<div>\n",
       "<style>\n",
       "    .dataframe thead tr:only-child th {\n",
       "        text-align: right;\n",
       "    }\n",
       "\n",
       "    .dataframe thead th {\n",
       "        text-align: left;\n",
       "    }\n",
       "\n",
       "    .dataframe tbody tr th {\n",
       "        vertical-align: top;\n",
       "    }\n",
       "</style>\n",
       "<table border=\"1\" class=\"dataframe\">\n",
       "  <thead>\n",
       "    <tr style=\"text-align: right;\">\n",
       "      <th></th>\n",
       "      <th>id</th>\n",
       "      <th>player_api_id</th>\n",
       "      <th>player_name</th>\n",
       "      <th>player_fifa_api_id</th>\n",
       "      <th>birthday</th>\n",
       "      <th>height</th>\n",
       "      <th>weight</th>\n",
       "    </tr>\n",
       "  </thead>\n",
       "  <tbody>\n",
       "    <tr>\n",
       "      <th>0</th>\n",
       "      <td>1</td>\n",
       "      <td>505942</td>\n",
       "      <td>Aaron Appindangoye</td>\n",
       "      <td>218353</td>\n",
       "      <td>1992-02-29</td>\n",
       "      <td>182.88</td>\n",
       "      <td>187</td>\n",
       "    </tr>\n",
       "    <tr>\n",
       "      <th>1</th>\n",
       "      <td>2</td>\n",
       "      <td>155782</td>\n",
       "      <td>Aaron Cresswell</td>\n",
       "      <td>189615</td>\n",
       "      <td>1989-12-15</td>\n",
       "      <td>170.18</td>\n",
       "      <td>146</td>\n",
       "    </tr>\n",
       "    <tr>\n",
       "      <th>2</th>\n",
       "      <td>3</td>\n",
       "      <td>162549</td>\n",
       "      <td>Aaron Doran</td>\n",
       "      <td>186170</td>\n",
       "      <td>1991-05-13</td>\n",
       "      <td>170.18</td>\n",
       "      <td>163</td>\n",
       "    </tr>\n",
       "    <tr>\n",
       "      <th>3</th>\n",
       "      <td>4</td>\n",
       "      <td>30572</td>\n",
       "      <td>Aaron Galindo</td>\n",
       "      <td>140161</td>\n",
       "      <td>1982-05-08</td>\n",
       "      <td>182.88</td>\n",
       "      <td>198</td>\n",
       "    </tr>\n",
       "    <tr>\n",
       "      <th>4</th>\n",
       "      <td>5</td>\n",
       "      <td>23780</td>\n",
       "      <td>Aaron Hughes</td>\n",
       "      <td>17725</td>\n",
       "      <td>1979-11-08</td>\n",
       "      <td>182.88</td>\n",
       "      <td>154</td>\n",
       "    </tr>\n",
       "  </tbody>\n",
       "</table>\n",
       "</div>"
      ],
      "text/plain": [
       "   id  player_api_id         player_name  player_fifa_api_id   birthday  \\\n",
       "0   1         505942  Aaron Appindangoye              218353 1992-02-29   \n",
       "1   2         155782     Aaron Cresswell              189615 1989-12-15   \n",
       "2   3         162549         Aaron Doran              186170 1991-05-13   \n",
       "3   4          30572       Aaron Galindo              140161 1982-05-08   \n",
       "4   5          23780        Aaron Hughes               17725 1979-11-08   \n",
       "\n",
       "   height  weight  \n",
       "0  182.88     187  \n",
       "1  170.18     146  \n",
       "2  170.18     163  \n",
       "3  182.88     198  \n",
       "4  182.88     154  "
      ]
     },
     "execution_count": 13,
     "metadata": {},
     "output_type": "execute_result"
    }
   ],
   "source": [
    "# check and print players table shape\n",
    "print(players.shape)\n",
    "players.head()"
   ]
  },
  {
   "cell_type": "markdown",
   "metadata": {
    "heading_collapsed": true,
    "hidden": true
   },
   "source": [
    "#### <div style=\"color:blue\">Player Attributes</div>"
   ]
  },
  {
   "cell_type": "code",
   "execution_count": 14,
   "metadata": {
    "ExecuteTime": {
     "end_time": "2018-06-29T13:17:22.951417Z",
     "start_time": "2018-06-29T13:17:22.654461Z"
    },
    "hidden": true
   },
   "outputs": [
    {
     "name": "stdout",
     "output_type": "stream",
     "text": [
      "dataframe shape: (183978, 42)\n",
      "Index(['id', 'player_fifa_api_id', 'player_api_id', 'date', 'overall_rating',\n",
      "       'potential', 'preferred_foot', 'attacking_work_rate',\n",
      "       'defensive_work_rate', 'crossing', 'finishing', 'heading_accuracy',\n",
      "       'short_passing', 'volleys', 'dribbling', 'curve', 'free_kick_accuracy',\n",
      "       'long_passing', 'ball_control', 'acceleration', 'sprint_speed',\n",
      "       'agility', 'reactions', 'balance', 'shot_power', 'jumping', 'stamina',\n",
      "       'strength', 'long_shots', 'aggression', 'interceptions', 'positioning',\n",
      "       'vision', 'penalties', 'marking', 'standing_tackle', 'sliding_tackle',\n",
      "       'gk_diving', 'gk_handling', 'gk_kicking', 'gk_positioning',\n",
      "       'gk_reflexes'],\n",
      "      dtype='object')\n"
     ]
    },
    {
     "data": {
      "text/html": [
       "<div>\n",
       "<style>\n",
       "    .dataframe thead tr:only-child th {\n",
       "        text-align: right;\n",
       "    }\n",
       "\n",
       "    .dataframe thead th {\n",
       "        text-align: left;\n",
       "    }\n",
       "\n",
       "    .dataframe tbody tr th {\n",
       "        vertical-align: top;\n",
       "    }\n",
       "</style>\n",
       "<table border=\"1\" class=\"dataframe\">\n",
       "  <thead>\n",
       "    <tr style=\"text-align: right;\">\n",
       "      <th></th>\n",
       "      <th>id</th>\n",
       "      <th>player_fifa_api_id</th>\n",
       "      <th>player_api_id</th>\n",
       "      <th>date</th>\n",
       "      <th>overall_rating</th>\n",
       "      <th>potential</th>\n",
       "      <th>preferred_foot</th>\n",
       "      <th>attacking_work_rate</th>\n",
       "      <th>defensive_work_rate</th>\n",
       "      <th>crossing</th>\n",
       "      <th>...</th>\n",
       "      <th>vision</th>\n",
       "      <th>penalties</th>\n",
       "      <th>marking</th>\n",
       "      <th>standing_tackle</th>\n",
       "      <th>sliding_tackle</th>\n",
       "      <th>gk_diving</th>\n",
       "      <th>gk_handling</th>\n",
       "      <th>gk_kicking</th>\n",
       "      <th>gk_positioning</th>\n",
       "      <th>gk_reflexes</th>\n",
       "    </tr>\n",
       "  </thead>\n",
       "  <tbody>\n",
       "    <tr>\n",
       "      <th>0</th>\n",
       "      <td>1</td>\n",
       "      <td>218353</td>\n",
       "      <td>505942</td>\n",
       "      <td>2016-02-18</td>\n",
       "      <td>67.0</td>\n",
       "      <td>71.0</td>\n",
       "      <td>right</td>\n",
       "      <td>medium</td>\n",
       "      <td>medium</td>\n",
       "      <td>49.0</td>\n",
       "      <td>...</td>\n",
       "      <td>54.0</td>\n",
       "      <td>48.0</td>\n",
       "      <td>65.0</td>\n",
       "      <td>69.0</td>\n",
       "      <td>69.0</td>\n",
       "      <td>6.0</td>\n",
       "      <td>11.0</td>\n",
       "      <td>10.0</td>\n",
       "      <td>8.0</td>\n",
       "      <td>8.0</td>\n",
       "    </tr>\n",
       "    <tr>\n",
       "      <th>1</th>\n",
       "      <td>2</td>\n",
       "      <td>218353</td>\n",
       "      <td>505942</td>\n",
       "      <td>2015-11-19</td>\n",
       "      <td>67.0</td>\n",
       "      <td>71.0</td>\n",
       "      <td>right</td>\n",
       "      <td>medium</td>\n",
       "      <td>medium</td>\n",
       "      <td>49.0</td>\n",
       "      <td>...</td>\n",
       "      <td>54.0</td>\n",
       "      <td>48.0</td>\n",
       "      <td>65.0</td>\n",
       "      <td>69.0</td>\n",
       "      <td>69.0</td>\n",
       "      <td>6.0</td>\n",
       "      <td>11.0</td>\n",
       "      <td>10.0</td>\n",
       "      <td>8.0</td>\n",
       "      <td>8.0</td>\n",
       "    </tr>\n",
       "    <tr>\n",
       "      <th>2</th>\n",
       "      <td>3</td>\n",
       "      <td>218353</td>\n",
       "      <td>505942</td>\n",
       "      <td>2015-09-21</td>\n",
       "      <td>62.0</td>\n",
       "      <td>66.0</td>\n",
       "      <td>right</td>\n",
       "      <td>medium</td>\n",
       "      <td>medium</td>\n",
       "      <td>49.0</td>\n",
       "      <td>...</td>\n",
       "      <td>54.0</td>\n",
       "      <td>48.0</td>\n",
       "      <td>65.0</td>\n",
       "      <td>66.0</td>\n",
       "      <td>69.0</td>\n",
       "      <td>6.0</td>\n",
       "      <td>11.0</td>\n",
       "      <td>10.0</td>\n",
       "      <td>8.0</td>\n",
       "      <td>8.0</td>\n",
       "    </tr>\n",
       "  </tbody>\n",
       "</table>\n",
       "<p>3 rows × 42 columns</p>\n",
       "</div>"
      ],
      "text/plain": [
       "   id  player_fifa_api_id  player_api_id       date  overall_rating  \\\n",
       "0   1              218353         505942 2016-02-18            67.0   \n",
       "1   2              218353         505942 2015-11-19            67.0   \n",
       "2   3              218353         505942 2015-09-21            62.0   \n",
       "\n",
       "   potential preferred_foot attacking_work_rate defensive_work_rate  crossing  \\\n",
       "0       71.0          right              medium              medium      49.0   \n",
       "1       71.0          right              medium              medium      49.0   \n",
       "2       66.0          right              medium              medium      49.0   \n",
       "\n",
       "      ...       vision  penalties  marking  standing_tackle  sliding_tackle  \\\n",
       "0     ...         54.0       48.0     65.0             69.0            69.0   \n",
       "1     ...         54.0       48.0     65.0             69.0            69.0   \n",
       "2     ...         54.0       48.0     65.0             66.0            69.0   \n",
       "\n",
       "   gk_diving  gk_handling  gk_kicking  gk_positioning  gk_reflexes  \n",
       "0        6.0         11.0        10.0             8.0          8.0  \n",
       "1        6.0         11.0        10.0             8.0          8.0  \n",
       "2        6.0         11.0        10.0             8.0          8.0  \n",
       "\n",
       "[3 rows x 42 columns]"
      ]
     },
     "execution_count": 14,
     "metadata": {},
     "output_type": "execute_result"
    }
   ],
   "source": [
    "# print Player df shape, column names and top 3 rows ( what we really need is id and 'overall_rating')\n",
    "print(f'dataframe shape: {playerAttr.shape}')\n",
    "print(playerAttr.columns)\n",
    "playerAttr.head(3)"
   ]
  },
  {
   "cell_type": "markdown",
   "metadata": {
    "heading_collapsed": true,
    "hidden": true
   },
   "source": [
    "#### Team"
   ]
  },
  {
   "cell_type": "code",
   "execution_count": 15,
   "metadata": {
    "ExecuteTime": {
     "end_time": "2018-06-29T13:17:29.303253Z",
     "start_time": "2018-06-29T13:17:29.054567Z"
    },
    "hidden": true
   },
   "outputs": [
    {
     "name": "stdout",
     "output_type": "stream",
     "text": [
      "(299, 5)\n"
     ]
    },
    {
     "data": {
      "text/html": [
       "<div>\n",
       "<style>\n",
       "    .dataframe thead tr:only-child th {\n",
       "        text-align: right;\n",
       "    }\n",
       "\n",
       "    .dataframe thead th {\n",
       "        text-align: left;\n",
       "    }\n",
       "\n",
       "    .dataframe tbody tr th {\n",
       "        vertical-align: top;\n",
       "    }\n",
       "</style>\n",
       "<table border=\"1\" class=\"dataframe\">\n",
       "  <thead>\n",
       "    <tr style=\"text-align: right;\">\n",
       "      <th></th>\n",
       "      <th>id</th>\n",
       "      <th>team_api_id</th>\n",
       "      <th>team_fifa_api_id</th>\n",
       "      <th>team_long_name</th>\n",
       "      <th>team_short_name</th>\n",
       "    </tr>\n",
       "  </thead>\n",
       "  <tbody>\n",
       "    <tr>\n",
       "      <th>0</th>\n",
       "      <td>1</td>\n",
       "      <td>9987</td>\n",
       "      <td>673.0</td>\n",
       "      <td>KRC Genk</td>\n",
       "      <td>GEN</td>\n",
       "    </tr>\n",
       "    <tr>\n",
       "      <th>1</th>\n",
       "      <td>2</td>\n",
       "      <td>9993</td>\n",
       "      <td>675.0</td>\n",
       "      <td>Beerschot AC</td>\n",
       "      <td>BAC</td>\n",
       "    </tr>\n",
       "    <tr>\n",
       "      <th>2</th>\n",
       "      <td>3</td>\n",
       "      <td>10000</td>\n",
       "      <td>15005.0</td>\n",
       "      <td>SV Zulte-Waregem</td>\n",
       "      <td>ZUL</td>\n",
       "    </tr>\n",
       "    <tr>\n",
       "      <th>3</th>\n",
       "      <td>4</td>\n",
       "      <td>9994</td>\n",
       "      <td>2007.0</td>\n",
       "      <td>Sporting Lokeren</td>\n",
       "      <td>LOK</td>\n",
       "    </tr>\n",
       "    <tr>\n",
       "      <th>4</th>\n",
       "      <td>5</td>\n",
       "      <td>9984</td>\n",
       "      <td>1750.0</td>\n",
       "      <td>KSV Cercle Brugge</td>\n",
       "      <td>CEB</td>\n",
       "    </tr>\n",
       "  </tbody>\n",
       "</table>\n",
       "</div>"
      ],
      "text/plain": [
       "   id  team_api_id  team_fifa_api_id     team_long_name team_short_name\n",
       "0   1         9987             673.0           KRC Genk             GEN\n",
       "1   2         9993             675.0       Beerschot AC             BAC\n",
       "2   3        10000           15005.0   SV Zulte-Waregem             ZUL\n",
       "3   4         9994            2007.0   Sporting Lokeren             LOK\n",
       "4   5         9984            1750.0  KSV Cercle Brugge             CEB"
      ]
     },
     "execution_count": 15,
     "metadata": {},
     "output_type": "execute_result"
    }
   ],
   "source": [
    "# check team df shape and peek df (just team names and id)\n",
    "print(team.shape)\n",
    "team.head()"
   ]
  },
  {
   "cell_type": "markdown",
   "metadata": {
    "heading_collapsed": true,
    "hidden": true
   },
   "source": [
    "#### Team Attributes"
   ]
  },
  {
   "cell_type": "code",
   "execution_count": 16,
   "metadata": {
    "ExecuteTime": {
     "end_time": "2018-06-29T13:17:37.023732Z",
     "start_time": "2018-06-29T13:17:36.759160Z"
    },
    "hidden": true
   },
   "outputs": [
    {
     "name": "stdout",
     "output_type": "stream",
     "text": [
      "(1458, 25)\n"
     ]
    },
    {
     "data": {
      "text/html": [
       "<div>\n",
       "<style>\n",
       "    .dataframe thead tr:only-child th {\n",
       "        text-align: right;\n",
       "    }\n",
       "\n",
       "    .dataframe thead th {\n",
       "        text-align: left;\n",
       "    }\n",
       "\n",
       "    .dataframe tbody tr th {\n",
       "        vertical-align: top;\n",
       "    }\n",
       "</style>\n",
       "<table border=\"1\" class=\"dataframe\">\n",
       "  <thead>\n",
       "    <tr style=\"text-align: right;\">\n",
       "      <th></th>\n",
       "      <th>id</th>\n",
       "      <th>team_fifa_api_id</th>\n",
       "      <th>team_api_id</th>\n",
       "      <th>date</th>\n",
       "      <th>buildUpPlaySpeed</th>\n",
       "      <th>buildUpPlaySpeedClass</th>\n",
       "      <th>buildUpPlayDribbling</th>\n",
       "      <th>buildUpPlayDribblingClass</th>\n",
       "      <th>buildUpPlayPassing</th>\n",
       "      <th>buildUpPlayPassingClass</th>\n",
       "      <th>...</th>\n",
       "      <th>chanceCreationShooting</th>\n",
       "      <th>chanceCreationShootingClass</th>\n",
       "      <th>chanceCreationPositioningClass</th>\n",
       "      <th>defencePressure</th>\n",
       "      <th>defencePressureClass</th>\n",
       "      <th>defenceAggression</th>\n",
       "      <th>defenceAggressionClass</th>\n",
       "      <th>defenceTeamWidth</th>\n",
       "      <th>defenceTeamWidthClass</th>\n",
       "      <th>defenceDefenderLineClass</th>\n",
       "    </tr>\n",
       "  </thead>\n",
       "  <tbody>\n",
       "    <tr>\n",
       "      <th>0</th>\n",
       "      <td>1</td>\n",
       "      <td>434</td>\n",
       "      <td>9930</td>\n",
       "      <td>2010-02-22</td>\n",
       "      <td>60</td>\n",
       "      <td>Balanced</td>\n",
       "      <td>NaN</td>\n",
       "      <td>Little</td>\n",
       "      <td>50</td>\n",
       "      <td>Mixed</td>\n",
       "      <td>...</td>\n",
       "      <td>55</td>\n",
       "      <td>Normal</td>\n",
       "      <td>Organised</td>\n",
       "      <td>50</td>\n",
       "      <td>Medium</td>\n",
       "      <td>55</td>\n",
       "      <td>Press</td>\n",
       "      <td>45</td>\n",
       "      <td>Normal</td>\n",
       "      <td>Cover</td>\n",
       "    </tr>\n",
       "    <tr>\n",
       "      <th>1</th>\n",
       "      <td>2</td>\n",
       "      <td>434</td>\n",
       "      <td>9930</td>\n",
       "      <td>2014-09-19</td>\n",
       "      <td>52</td>\n",
       "      <td>Balanced</td>\n",
       "      <td>48.0</td>\n",
       "      <td>Normal</td>\n",
       "      <td>56</td>\n",
       "      <td>Mixed</td>\n",
       "      <td>...</td>\n",
       "      <td>64</td>\n",
       "      <td>Normal</td>\n",
       "      <td>Organised</td>\n",
       "      <td>47</td>\n",
       "      <td>Medium</td>\n",
       "      <td>44</td>\n",
       "      <td>Press</td>\n",
       "      <td>54</td>\n",
       "      <td>Normal</td>\n",
       "      <td>Cover</td>\n",
       "    </tr>\n",
       "    <tr>\n",
       "      <th>2</th>\n",
       "      <td>3</td>\n",
       "      <td>434</td>\n",
       "      <td>9930</td>\n",
       "      <td>2015-09-10</td>\n",
       "      <td>47</td>\n",
       "      <td>Balanced</td>\n",
       "      <td>41.0</td>\n",
       "      <td>Normal</td>\n",
       "      <td>54</td>\n",
       "      <td>Mixed</td>\n",
       "      <td>...</td>\n",
       "      <td>64</td>\n",
       "      <td>Normal</td>\n",
       "      <td>Organised</td>\n",
       "      <td>47</td>\n",
       "      <td>Medium</td>\n",
       "      <td>44</td>\n",
       "      <td>Press</td>\n",
       "      <td>54</td>\n",
       "      <td>Normal</td>\n",
       "      <td>Cover</td>\n",
       "    </tr>\n",
       "  </tbody>\n",
       "</table>\n",
       "<p>3 rows × 25 columns</p>\n",
       "</div>"
      ],
      "text/plain": [
       "   id  team_fifa_api_id  team_api_id       date  buildUpPlaySpeed  \\\n",
       "0   1               434         9930 2010-02-22                60   \n",
       "1   2               434         9930 2014-09-19                52   \n",
       "2   3               434         9930 2015-09-10                47   \n",
       "\n",
       "  buildUpPlaySpeedClass  buildUpPlayDribbling buildUpPlayDribblingClass  \\\n",
       "0              Balanced                   NaN                    Little   \n",
       "1              Balanced                  48.0                    Normal   \n",
       "2              Balanced                  41.0                    Normal   \n",
       "\n",
       "   buildUpPlayPassing buildUpPlayPassingClass           ...             \\\n",
       "0                  50                   Mixed           ...              \n",
       "1                  56                   Mixed           ...              \n",
       "2                  54                   Mixed           ...              \n",
       "\n",
       "  chanceCreationShooting  chanceCreationShootingClass  \\\n",
       "0                     55                       Normal   \n",
       "1                     64                       Normal   \n",
       "2                     64                       Normal   \n",
       "\n",
       "  chanceCreationPositioningClass  defencePressure defencePressureClass  \\\n",
       "0                      Organised               50               Medium   \n",
       "1                      Organised               47               Medium   \n",
       "2                      Organised               47               Medium   \n",
       "\n",
       "   defenceAggression defenceAggressionClass defenceTeamWidth  \\\n",
       "0                 55                  Press               45   \n",
       "1                 44                  Press               54   \n",
       "2                 44                  Press               54   \n",
       "\n",
       "   defenceTeamWidthClass defenceDefenderLineClass  \n",
       "0                 Normal                    Cover  \n",
       "1                 Normal                    Cover  \n",
       "2                 Normal                    Cover  \n",
       "\n",
       "[3 rows x 25 columns]"
      ]
     },
     "execution_count": 16,
     "metadata": {},
     "output_type": "execute_result"
    }
   ],
   "source": [
    "# peep at team table and print shape\n",
    "print(teamAttr.shape)\n",
    "teamAttr.head(3)"
   ]
  },
  {
   "cell_type": "code",
   "execution_count": 17,
   "metadata": {
    "ExecuteTime": {
     "end_time": "2018-06-29T13:17:37.304242Z",
     "start_time": "2018-06-29T13:17:37.026717Z"
    },
    "hidden": true
   },
   "outputs": [
    {
     "data": {
      "text/html": [
       "<div>\n",
       "<style>\n",
       "    .dataframe thead tr:only-child th {\n",
       "        text-align: right;\n",
       "    }\n",
       "\n",
       "    .dataframe thead th {\n",
       "        text-align: left;\n",
       "    }\n",
       "\n",
       "    .dataframe tbody tr th {\n",
       "        vertical-align: top;\n",
       "    }\n",
       "</style>\n",
       "<table border=\"1\" class=\"dataframe\">\n",
       "  <thead>\n",
       "    <tr style=\"text-align: right;\">\n",
       "      <th></th>\n",
       "      <th>id</th>\n",
       "      <th>team_fifa_api_id</th>\n",
       "      <th>team_api_id</th>\n",
       "      <th>date</th>\n",
       "      <th>buildUpPlaySpeed</th>\n",
       "      <th>buildUpPlaySpeedClass</th>\n",
       "      <th>buildUpPlayDribbling</th>\n",
       "      <th>buildUpPlayDribblingClass</th>\n",
       "      <th>buildUpPlayPassing</th>\n",
       "      <th>buildUpPlayPassingClass</th>\n",
       "      <th>buildUpPlayPositioningClass</th>\n",
       "      <th>chanceCreationPassing</th>\n",
       "      <th>chanceCreationPassingClass</th>\n",
       "    </tr>\n",
       "  </thead>\n",
       "  <tbody>\n",
       "    <tr>\n",
       "      <th>0</th>\n",
       "      <td>1</td>\n",
       "      <td>434</td>\n",
       "      <td>9930</td>\n",
       "      <td>2010-02-22</td>\n",
       "      <td>60</td>\n",
       "      <td>Balanced</td>\n",
       "      <td>NaN</td>\n",
       "      <td>Little</td>\n",
       "      <td>50</td>\n",
       "      <td>Mixed</td>\n",
       "      <td>Organised</td>\n",
       "      <td>60</td>\n",
       "      <td>Normal</td>\n",
       "    </tr>\n",
       "    <tr>\n",
       "      <th>1</th>\n",
       "      <td>2</td>\n",
       "      <td>434</td>\n",
       "      <td>9930</td>\n",
       "      <td>2014-09-19</td>\n",
       "      <td>52</td>\n",
       "      <td>Balanced</td>\n",
       "      <td>48.0</td>\n",
       "      <td>Normal</td>\n",
       "      <td>56</td>\n",
       "      <td>Mixed</td>\n",
       "      <td>Organised</td>\n",
       "      <td>54</td>\n",
       "      <td>Normal</td>\n",
       "    </tr>\n",
       "    <tr>\n",
       "      <th>2</th>\n",
       "      <td>3</td>\n",
       "      <td>434</td>\n",
       "      <td>9930</td>\n",
       "      <td>2015-09-10</td>\n",
       "      <td>47</td>\n",
       "      <td>Balanced</td>\n",
       "      <td>41.0</td>\n",
       "      <td>Normal</td>\n",
       "      <td>54</td>\n",
       "      <td>Mixed</td>\n",
       "      <td>Organised</td>\n",
       "      <td>54</td>\n",
       "      <td>Normal</td>\n",
       "    </tr>\n",
       "  </tbody>\n",
       "</table>\n",
       "</div>"
      ],
      "text/plain": [
       "   id  team_fifa_api_id  team_api_id       date  buildUpPlaySpeed  \\\n",
       "0   1               434         9930 2010-02-22                60   \n",
       "1   2               434         9930 2014-09-19                52   \n",
       "2   3               434         9930 2015-09-10                47   \n",
       "\n",
       "  buildUpPlaySpeedClass  buildUpPlayDribbling buildUpPlayDribblingClass  \\\n",
       "0              Balanced                   NaN                    Little   \n",
       "1              Balanced                  48.0                    Normal   \n",
       "2              Balanced                  41.0                    Normal   \n",
       "\n",
       "   buildUpPlayPassing buildUpPlayPassingClass buildUpPlayPositioningClass  \\\n",
       "0                  50                   Mixed                   Organised   \n",
       "1                  56                   Mixed                   Organised   \n",
       "2                  54                   Mixed                   Organised   \n",
       "\n",
       "   chanceCreationPassing chanceCreationPassingClass  \n",
       "0                     60                     Normal  \n",
       "1                     54                     Normal  \n",
       "2                     54                     Normal  "
      ]
     },
     "metadata": {},
     "output_type": "display_data"
    },
    {
     "data": {
      "text/html": [
       "<div>\n",
       "<style>\n",
       "    .dataframe thead tr:only-child th {\n",
       "        text-align: right;\n",
       "    }\n",
       "\n",
       "    .dataframe thead th {\n",
       "        text-align: left;\n",
       "    }\n",
       "\n",
       "    .dataframe tbody tr th {\n",
       "        vertical-align: top;\n",
       "    }\n",
       "</style>\n",
       "<table border=\"1\" class=\"dataframe\">\n",
       "  <thead>\n",
       "    <tr style=\"text-align: right;\">\n",
       "      <th></th>\n",
       "      <th>chanceCreationCrossing</th>\n",
       "      <th>chanceCreationCrossingClass</th>\n",
       "      <th>chanceCreationShooting</th>\n",
       "      <th>chanceCreationShootingClass</th>\n",
       "      <th>chanceCreationPositioningClass</th>\n",
       "      <th>defencePressure</th>\n",
       "      <th>defencePressureClass</th>\n",
       "      <th>defenceAggression</th>\n",
       "      <th>defenceAggressionClass</th>\n",
       "      <th>defenceTeamWidth</th>\n",
       "      <th>defenceTeamWidthClass</th>\n",
       "      <th>defenceDefenderLineClass</th>\n",
       "    </tr>\n",
       "  </thead>\n",
       "  <tbody>\n",
       "    <tr>\n",
       "      <th>0</th>\n",
       "      <td>65</td>\n",
       "      <td>Normal</td>\n",
       "      <td>55</td>\n",
       "      <td>Normal</td>\n",
       "      <td>Organised</td>\n",
       "      <td>50</td>\n",
       "      <td>Medium</td>\n",
       "      <td>55</td>\n",
       "      <td>Press</td>\n",
       "      <td>45</td>\n",
       "      <td>Normal</td>\n",
       "      <td>Cover</td>\n",
       "    </tr>\n",
       "    <tr>\n",
       "      <th>1</th>\n",
       "      <td>63</td>\n",
       "      <td>Normal</td>\n",
       "      <td>64</td>\n",
       "      <td>Normal</td>\n",
       "      <td>Organised</td>\n",
       "      <td>47</td>\n",
       "      <td>Medium</td>\n",
       "      <td>44</td>\n",
       "      <td>Press</td>\n",
       "      <td>54</td>\n",
       "      <td>Normal</td>\n",
       "      <td>Cover</td>\n",
       "    </tr>\n",
       "    <tr>\n",
       "      <th>2</th>\n",
       "      <td>63</td>\n",
       "      <td>Normal</td>\n",
       "      <td>64</td>\n",
       "      <td>Normal</td>\n",
       "      <td>Organised</td>\n",
       "      <td>47</td>\n",
       "      <td>Medium</td>\n",
       "      <td>44</td>\n",
       "      <td>Press</td>\n",
       "      <td>54</td>\n",
       "      <td>Normal</td>\n",
       "      <td>Cover</td>\n",
       "    </tr>\n",
       "  </tbody>\n",
       "</table>\n",
       "</div>"
      ],
      "text/plain": [
       "   chanceCreationCrossing chanceCreationCrossingClass  chanceCreationShooting  \\\n",
       "0                      65                      Normal                      55   \n",
       "1                      63                      Normal                      64   \n",
       "2                      63                      Normal                      64   \n",
       "\n",
       "  chanceCreationShootingClass chanceCreationPositioningClass  defencePressure  \\\n",
       "0                      Normal                      Organised               50   \n",
       "1                      Normal                      Organised               47   \n",
       "2                      Normal                      Organised               47   \n",
       "\n",
       "  defencePressureClass  defenceAggression defenceAggressionClass  \\\n",
       "0               Medium                 55                  Press   \n",
       "1               Medium                 44                  Press   \n",
       "2               Medium                 44                  Press   \n",
       "\n",
       "   defenceTeamWidth defenceTeamWidthClass defenceDefenderLineClass  \n",
       "0                45                Normal                    Cover  \n",
       "1                54                Normal                    Cover  \n",
       "2                54                Normal                    Cover  "
      ]
     },
     "metadata": {},
     "output_type": "display_data"
    }
   ],
   "source": [
    "# print both parts of team df\n",
    "\n",
    "display(teamAttr.iloc[:3,:13])\n",
    "display(teamAttr.iloc[:3,13:25])"
   ]
  },
  {
   "cell_type": "markdown",
   "metadata": {
    "heading_collapsed": true
   },
   "source": [
    "# Feature Engineering <a id=\"featureengineering\"></a>"
   ]
  },
  {
   "cell_type": "markdown",
   "metadata": {
    "hidden": true
   },
   "source": [
    "Feature Engineering refers to the exercise where by we define more \"columns\" of numerical variables or \"flags\" to let the model \"understand/learn\" more about our data. This is often the key determining factor to accurate models.\n",
    "\n",
    "1. As we have statistics of each player over many time periods, we need to get the latest stats for each player, prior to their match date. I have done this with the help of functions developed by [Airback](https://www.kaggle.com/airback), from this [kaggle kernel](https://www.kaggle.com/airback/match-outcome-prediction-in-football?scriptVersionId=796746) and have placed them in the file called functions.py in this folder so we imported them in via from functions import *    \n",
    "<br>\n",
    "2. Next we add in some match results from the last 10 matches that a particular team-vs-team had before their latest matchup.    \n",
    "<br>\n",
    "3. We also flag the leagues that the teams are in and add in some bookie odds. Note here that, flags must have a column on their own. (we do this via pd.get_dummies() in pandas)    \n",
    "<br>\n",
    "4. Lastly, a match outcome normally goes by \"Win\", \"Draw\" or \"Loose\", which makes this a multi-class problem. However, for beginners and ease of explanation, we need to treat this as a binary classficiation problem and label the outcome as either \"Win\", or \"No-Win\".\n",
    "<br>"
   ]
  },
  {
   "cell_type": "code",
   "execution_count": 18,
   "metadata": {
    "ExecuteTime": {
     "end_time": "2018-06-29T13:18:07.840416Z",
     "start_time": "2018-06-29T13:18:07.551297Z"
    },
    "collapsed": true,
    "hidden": true
   },
   "outputs": [],
   "source": [
    "# Specify only those column names that we want to use\n",
    "keepcols = [\"country_id\", \"league_id\", \"season\", \"stage\", \"date\", \"match_api_id\", \"home_team_api_id\", \n",
    "        \"away_team_api_id\", \"home_team_goal\", \"away_team_goal\", \"home_player_1\", \"home_player_2\",\n",
    "        \"home_player_3\", \"home_player_4\", \"home_player_5\", \"home_player_6\", \"home_player_7\", \n",
    "        \"home_player_8\", \"home_player_9\", \"home_player_10\", \"home_player_11\", \"away_player_1\",\n",
    "        \"away_player_2\", \"away_player_3\", \"away_player_4\", \"away_player_5\", \"away_player_6\",\n",
    "        \"away_player_7\", \"away_player_8\", \"away_player_9\", \"away_player_10\", \"away_player_11\"]\n",
    "\n",
    "# drop those rows with NAs or Nulls and subset with keepcols\n",
    "match.dropna(subset = keepcols, how='any', inplace = True)"
   ]
  },
  {
   "cell_type": "raw",
   "metadata": {
    "ExecuteTime": {
     "end_time": "2018-06-29T13:49:51.707847Z",
     "start_time": "2018-06-29T13:18:35.544287Z"
    },
    "hidden": true
   },
   "source": [
    "# Transform match data to reflect player ratings via function (DON'T RUN THIS IN LESSION. TAKES TOO LONG!)\n",
    "fifa_data = get_fifa_data(match, playerAttr, data_exists = False)\n",
    "#fifa_data.to_pickle('../data/fifa_data.pkl')"
   ]
  },
  {
   "cell_type": "code",
   "execution_count": 33,
   "metadata": {
    "ExecuteTime": {
     "end_time": "2018-06-29T02:39:19.564083Z",
     "start_time": "2018-06-29T02:39:19.255734Z"
    },
    "collapsed": true,
    "hidden": true
   },
   "outputs": [
    {
     "name": "stdout",
     "output_type": "stream",
     "text": [
      "Index(['home_player_1_overall_rating', 'home_player_2_overall_rating',\n",
      "       'home_player_3_overall_rating', 'home_player_4_overall_rating',\n",
      "       'home_player_5_overall_rating', 'home_player_6_overall_rating',\n",
      "       'home_player_7_overall_rating', 'home_player_8_overall_rating',\n",
      "       'home_player_9_overall_rating', 'home_player_10_overall_rating',\n",
      "       'home_player_11_overall_rating', 'away_player_1_overall_rating',\n",
      "       'away_player_2_overall_rating', 'away_player_3_overall_rating',\n",
      "       'away_player_4_overall_rating', 'away_player_5_overall_rating',\n",
      "       'away_player_6_overall_rating', 'away_player_7_overall_rating',\n",
      "       'away_player_8_overall_rating', 'away_player_9_overall_rating',\n",
      "       'away_player_10_overall_rating', 'away_player_11_overall_rating',\n",
      "       'match_api_id'],\n",
      "      dtype='object')\n"
     ]
    },
    {
     "data": {
      "text/html": [
       "<div>\n",
       "<style>\n",
       "    .dataframe thead tr:only-child th {\n",
       "        text-align: right;\n",
       "    }\n",
       "\n",
       "    .dataframe thead th {\n",
       "        text-align: left;\n",
       "    }\n",
       "\n",
       "    .dataframe tbody tr th {\n",
       "        vertical-align: top;\n",
       "    }\n",
       "</style>\n",
       "<table border=\"1\" class=\"dataframe\">\n",
       "  <thead>\n",
       "    <tr style=\"text-align: right;\">\n",
       "      <th></th>\n",
       "      <th>home_player_1_overall_rating</th>\n",
       "      <th>home_player_2_overall_rating</th>\n",
       "      <th>home_player_3_overall_rating</th>\n",
       "      <th>home_player_4_overall_rating</th>\n",
       "      <th>home_player_5_overall_rating</th>\n",
       "      <th>home_player_6_overall_rating</th>\n",
       "      <th>home_player_7_overall_rating</th>\n",
       "      <th>home_player_8_overall_rating</th>\n",
       "      <th>home_player_9_overall_rating</th>\n",
       "      <th>home_player_10_overall_rating</th>\n",
       "      <th>...</th>\n",
       "      <th>away_player_3_overall_rating</th>\n",
       "      <th>away_player_4_overall_rating</th>\n",
       "      <th>away_player_5_overall_rating</th>\n",
       "      <th>away_player_6_overall_rating</th>\n",
       "      <th>away_player_7_overall_rating</th>\n",
       "      <th>away_player_8_overall_rating</th>\n",
       "      <th>away_player_9_overall_rating</th>\n",
       "      <th>away_player_10_overall_rating</th>\n",
       "      <th>away_player_11_overall_rating</th>\n",
       "      <th>match_api_id</th>\n",
       "    </tr>\n",
       "  </thead>\n",
       "  <tbody>\n",
       "    <tr>\n",
       "      <th>145</th>\n",
       "      <td>58.0</td>\n",
       "      <td>57.0</td>\n",
       "      <td>67.0</td>\n",
       "      <td>53.0</td>\n",
       "      <td>60.0</td>\n",
       "      <td>63.0</td>\n",
       "      <td>60.0</td>\n",
       "      <td>66.0</td>\n",
       "      <td>50.0</td>\n",
       "      <td>65.0</td>\n",
       "      <td>...</td>\n",
       "      <td>59.0</td>\n",
       "      <td>55.0</td>\n",
       "      <td>54.0</td>\n",
       "      <td>72.0</td>\n",
       "      <td>67.0</td>\n",
       "      <td>65.0</td>\n",
       "      <td>70.0</td>\n",
       "      <td>68.0</td>\n",
       "      <td>63.0</td>\n",
       "      <td>493017.0</td>\n",
       "    </tr>\n",
       "    <tr>\n",
       "      <th>153</th>\n",
       "      <td>64.0</td>\n",
       "      <td>64.0</td>\n",
       "      <td>63.0</td>\n",
       "      <td>62.0</td>\n",
       "      <td>62.0</td>\n",
       "      <td>72.0</td>\n",
       "      <td>68.0</td>\n",
       "      <td>67.0</td>\n",
       "      <td>69.0</td>\n",
       "      <td>68.0</td>\n",
       "      <td>...</td>\n",
       "      <td>66.0</td>\n",
       "      <td>67.0</td>\n",
       "      <td>66.0</td>\n",
       "      <td>70.0</td>\n",
       "      <td>69.0</td>\n",
       "      <td>68.0</td>\n",
       "      <td>67.0</td>\n",
       "      <td>73.0</td>\n",
       "      <td>68.0</td>\n",
       "      <td>493025.0</td>\n",
       "    </tr>\n",
       "    <tr>\n",
       "      <th>155</th>\n",
       "      <td>67.0</td>\n",
       "      <td>72.0</td>\n",
       "      <td>69.0</td>\n",
       "      <td>69.0</td>\n",
       "      <td>72.0</td>\n",
       "      <td>75.0</td>\n",
       "      <td>74.0</td>\n",
       "      <td>70.0</td>\n",
       "      <td>74.0</td>\n",
       "      <td>64.0</td>\n",
       "      <td>...</td>\n",
       "      <td>61.0</td>\n",
       "      <td>60.0</td>\n",
       "      <td>49.0</td>\n",
       "      <td>64.0</td>\n",
       "      <td>67.0</td>\n",
       "      <td>66.0</td>\n",
       "      <td>55.0</td>\n",
       "      <td>58.0</td>\n",
       "      <td>64.0</td>\n",
       "      <td>493027.0</td>\n",
       "    </tr>\n",
       "    <tr>\n",
       "      <th>162</th>\n",
       "      <td>58.0</td>\n",
       "      <td>57.0</td>\n",
       "      <td>67.0</td>\n",
       "      <td>65.0</td>\n",
       "      <td>66.0</td>\n",
       "      <td>60.0</td>\n",
       "      <td>53.0</td>\n",
       "      <td>60.0</td>\n",
       "      <td>50.0</td>\n",
       "      <td>64.0</td>\n",
       "      <td>...</td>\n",
       "      <td>72.0</td>\n",
       "      <td>66.0</td>\n",
       "      <td>67.0</td>\n",
       "      <td>75.0</td>\n",
       "      <td>70.0</td>\n",
       "      <td>74.0</td>\n",
       "      <td>74.0</td>\n",
       "      <td>70.0</td>\n",
       "      <td>69.0</td>\n",
       "      <td>493034.0</td>\n",
       "    </tr>\n",
       "    <tr>\n",
       "      <th>168</th>\n",
       "      <td>61.0</td>\n",
       "      <td>66.0</td>\n",
       "      <td>61.0</td>\n",
       "      <td>61.0</td>\n",
       "      <td>60.0</td>\n",
       "      <td>64.0</td>\n",
       "      <td>67.0</td>\n",
       "      <td>66.0</td>\n",
       "      <td>64.0</td>\n",
       "      <td>58.0</td>\n",
       "      <td>...</td>\n",
       "      <td>57.0</td>\n",
       "      <td>57.0</td>\n",
       "      <td>51.0</td>\n",
       "      <td>58.0</td>\n",
       "      <td>66.0</td>\n",
       "      <td>57.0</td>\n",
       "      <td>60.0</td>\n",
       "      <td>63.0</td>\n",
       "      <td>65.0</td>\n",
       "      <td>493040.0</td>\n",
       "    </tr>\n",
       "  </tbody>\n",
       "</table>\n",
       "<p>5 rows × 23 columns</p>\n",
       "</div>"
      ],
      "text/plain": [
       "     home_player_1_overall_rating  home_player_2_overall_rating  \\\n",
       "145                          58.0                          57.0   \n",
       "153                          64.0                          64.0   \n",
       "155                          67.0                          72.0   \n",
       "162                          58.0                          57.0   \n",
       "168                          61.0                          66.0   \n",
       "\n",
       "     home_player_3_overall_rating  home_player_4_overall_rating  \\\n",
       "145                          67.0                          53.0   \n",
       "153                          63.0                          62.0   \n",
       "155                          69.0                          69.0   \n",
       "162                          67.0                          65.0   \n",
       "168                          61.0                          61.0   \n",
       "\n",
       "     home_player_5_overall_rating  home_player_6_overall_rating  \\\n",
       "145                          60.0                          63.0   \n",
       "153                          62.0                          72.0   \n",
       "155                          72.0                          75.0   \n",
       "162                          66.0                          60.0   \n",
       "168                          60.0                          64.0   \n",
       "\n",
       "     home_player_7_overall_rating  home_player_8_overall_rating  \\\n",
       "145                          60.0                          66.0   \n",
       "153                          68.0                          67.0   \n",
       "155                          74.0                          70.0   \n",
       "162                          53.0                          60.0   \n",
       "168                          67.0                          66.0   \n",
       "\n",
       "     home_player_9_overall_rating  home_player_10_overall_rating  \\\n",
       "145                          50.0                           65.0   \n",
       "153                          69.0                           68.0   \n",
       "155                          74.0                           64.0   \n",
       "162                          50.0                           64.0   \n",
       "168                          64.0                           58.0   \n",
       "\n",
       "         ...       away_player_3_overall_rating  away_player_4_overall_rating  \\\n",
       "145      ...                               59.0                          55.0   \n",
       "153      ...                               66.0                          67.0   \n",
       "155      ...                               61.0                          60.0   \n",
       "162      ...                               72.0                          66.0   \n",
       "168      ...                               57.0                          57.0   \n",
       "\n",
       "     away_player_5_overall_rating  away_player_6_overall_rating  \\\n",
       "145                          54.0                          72.0   \n",
       "153                          66.0                          70.0   \n",
       "155                          49.0                          64.0   \n",
       "162                          67.0                          75.0   \n",
       "168                          51.0                          58.0   \n",
       "\n",
       "     away_player_7_overall_rating  away_player_8_overall_rating  \\\n",
       "145                          67.0                          65.0   \n",
       "153                          69.0                          68.0   \n",
       "155                          67.0                          66.0   \n",
       "162                          70.0                          74.0   \n",
       "168                          66.0                          57.0   \n",
       "\n",
       "     away_player_9_overall_rating  away_player_10_overall_rating  \\\n",
       "145                          70.0                           68.0   \n",
       "153                          67.0                           73.0   \n",
       "155                          55.0                           58.0   \n",
       "162                          74.0                           70.0   \n",
       "168                          60.0                           63.0   \n",
       "\n",
       "     away_player_11_overall_rating  match_api_id  \n",
       "145                           63.0      493017.0  \n",
       "153                           68.0      493025.0  \n",
       "155                           64.0      493027.0  \n",
       "162                           69.0      493034.0  \n",
       "168                           65.0      493040.0  \n",
       "\n",
       "[5 rows x 23 columns]"
      ]
     },
     "execution_count": 33,
     "metadata": {},
     "output_type": "execute_result"
    }
   ],
   "source": [
    "# Load/Read in Player/Match Ratings\n",
    "fifa_data = pd.read_pickle('../data/fifa_data.pkl')\n",
    "print(fifa_data.columns)\n",
    "fifa_data.head()"
   ]
  },
  {
   "cell_type": "raw",
   "metadata": {
    "ExecuteTime": {
     "end_time": "2018-06-29T14:19:24.371365Z",
     "start_time": "2018-06-29T14:07:36.467830Z"
    },
    "hidden": true
   },
   "source": [
    "# get past match outcomes, league data and bookie ratings and merge with match data (ALSO DON'T RUN THIS)\n",
    "bk_cols = ['B365', 'BW', 'IW', 'LB', 'PS', 'WH', 'SJ', 'VC', 'GB', 'BS']\n",
    "bk_cols_selected = ['B365', 'BW']      \n",
    "feables = create_feables(match, fifa_data, bk_cols_selected, get_overall = True)\n",
    "feables.to_csv('../data/feables.csv', index=False)\n",
    "feables.to_pickle('../data/feables.pkl')"
   ]
  },
  {
   "cell_type": "code",
   "execution_count": 25,
   "metadata": {
    "ExecuteTime": {
     "end_time": "2018-06-29T14:22:34.670216Z",
     "start_time": "2018-06-29T14:22:34.368060Z"
    },
    "code_folding": [],
    "collapsed": true,
    "hidden": true
   },
   "outputs": [
    {
     "name": "stdout",
     "output_type": "stream",
     "text": [
      "Index(['match_api_id', 'home_team_goals_difference',\n",
      "       'away_team_goals_difference', 'games_won_home_team',\n",
      "       'games_won_away_team', 'games_against_won', 'games_against_lost',\n",
      "       'League_1.0', 'League_1729.0', 'League_4769.0', 'League_7809.0',\n",
      "       'League_10257.0', 'League_13274.0', 'League_15722.0', 'League_17642.0',\n",
      "       'League_19694.0', 'League_21518.0', 'League_24558.0',\n",
      "       'home_player_1_overall_rating', 'home_player_2_overall_rating',\n",
      "       'home_player_3_overall_rating', 'home_player_4_overall_rating',\n",
      "       'home_player_5_overall_rating', 'home_player_6_overall_rating',\n",
      "       'home_player_7_overall_rating', 'home_player_8_overall_rating',\n",
      "       'home_player_9_overall_rating', 'home_player_10_overall_rating',\n",
      "       'home_player_11_overall_rating', 'away_player_1_overall_rating',\n",
      "       'away_player_2_overall_rating', 'away_player_3_overall_rating',\n",
      "       'away_player_4_overall_rating', 'away_player_5_overall_rating',\n",
      "       'away_player_6_overall_rating', 'away_player_7_overall_rating',\n",
      "       'away_player_8_overall_rating', 'away_player_9_overall_rating',\n",
      "       'away_player_10_overall_rating', 'away_player_11_overall_rating',\n",
      "       'B365_Win', 'B365_Draw', 'B365_Defeat', 'BW_Win', 'BW_Draw',\n",
      "       'BW_Defeat', 'label'],\n",
      "      dtype='object')\n"
     ]
    },
    {
     "data": {
      "text/html": [
       "<div>\n",
       "<style>\n",
       "    .dataframe thead tr:only-child th {\n",
       "        text-align: right;\n",
       "    }\n",
       "\n",
       "    .dataframe thead th {\n",
       "        text-align: left;\n",
       "    }\n",
       "\n",
       "    .dataframe tbody tr th {\n",
       "        vertical-align: top;\n",
       "    }\n",
       "</style>\n",
       "<table border=\"1\" class=\"dataframe\">\n",
       "  <thead>\n",
       "    <tr style=\"text-align: right;\">\n",
       "      <th></th>\n",
       "      <th>match_api_id</th>\n",
       "      <th>home_team_goals_difference</th>\n",
       "      <th>away_team_goals_difference</th>\n",
       "      <th>games_won_home_team</th>\n",
       "      <th>games_won_away_team</th>\n",
       "      <th>games_against_won</th>\n",
       "      <th>games_against_lost</th>\n",
       "      <th>League_1.0</th>\n",
       "      <th>League_1729.0</th>\n",
       "      <th>League_4769.0</th>\n",
       "      <th>...</th>\n",
       "      <th>away_player_9_overall_rating</th>\n",
       "      <th>away_player_10_overall_rating</th>\n",
       "      <th>away_player_11_overall_rating</th>\n",
       "      <th>B365_Win</th>\n",
       "      <th>B365_Draw</th>\n",
       "      <th>B365_Defeat</th>\n",
       "      <th>BW_Win</th>\n",
       "      <th>BW_Draw</th>\n",
       "      <th>BW_Defeat</th>\n",
       "      <th>label</th>\n",
       "    </tr>\n",
       "  </thead>\n",
       "  <tbody>\n",
       "    <tr>\n",
       "      <th>0</th>\n",
       "      <td>493017</td>\n",
       "      <td>0.0</td>\n",
       "      <td>0.0</td>\n",
       "      <td>0.0</td>\n",
       "      <td>0.0</td>\n",
       "      <td>0.0</td>\n",
       "      <td>0.0</td>\n",
       "      <td>1</td>\n",
       "      <td>0</td>\n",
       "      <td>0</td>\n",
       "      <td>...</td>\n",
       "      <td>70.0</td>\n",
       "      <td>68.0</td>\n",
       "      <td>63.0</td>\n",
       "      <td>0.313804</td>\n",
       "      <td>0.276886</td>\n",
       "      <td>0.409310</td>\n",
       "      <td>0.307825</td>\n",
       "      <td>0.279410</td>\n",
       "      <td>0.412765</td>\n",
       "      <td>Win</td>\n",
       "    </tr>\n",
       "    <tr>\n",
       "      <th>1</th>\n",
       "      <td>493025</td>\n",
       "      <td>0.0</td>\n",
       "      <td>0.0</td>\n",
       "      <td>0.0</td>\n",
       "      <td>0.0</td>\n",
       "      <td>0.0</td>\n",
       "      <td>0.0</td>\n",
       "      <td>1</td>\n",
       "      <td>0</td>\n",
       "      <td>0</td>\n",
       "      <td>...</td>\n",
       "      <td>67.0</td>\n",
       "      <td>73.0</td>\n",
       "      <td>68.0</td>\n",
       "      <td>0.327179</td>\n",
       "      <td>0.286281</td>\n",
       "      <td>0.386540</td>\n",
       "      <td>0.290493</td>\n",
       "      <td>0.300176</td>\n",
       "      <td>0.409331</td>\n",
       "      <td>Defeat</td>\n",
       "    </tr>\n",
       "    <tr>\n",
       "      <th>2</th>\n",
       "      <td>493027</td>\n",
       "      <td>0.0</td>\n",
       "      <td>0.0</td>\n",
       "      <td>0.0</td>\n",
       "      <td>0.0</td>\n",
       "      <td>0.0</td>\n",
       "      <td>0.0</td>\n",
       "      <td>1</td>\n",
       "      <td>0</td>\n",
       "      <td>0</td>\n",
       "      <td>...</td>\n",
       "      <td>55.0</td>\n",
       "      <td>58.0</td>\n",
       "      <td>64.0</td>\n",
       "      <td>0.672897</td>\n",
       "      <td>0.209346</td>\n",
       "      <td>0.117757</td>\n",
       "      <td>0.672269</td>\n",
       "      <td>0.226891</td>\n",
       "      <td>0.100840</td>\n",
       "      <td>Win</td>\n",
       "    </tr>\n",
       "    <tr>\n",
       "      <th>3</th>\n",
       "      <td>493034</td>\n",
       "      <td>1.0</td>\n",
       "      <td>2.0</td>\n",
       "      <td>1.0</td>\n",
       "      <td>1.0</td>\n",
       "      <td>0.0</td>\n",
       "      <td>0.0</td>\n",
       "      <td>1</td>\n",
       "      <td>0</td>\n",
       "      <td>0</td>\n",
       "      <td>...</td>\n",
       "      <td>74.0</td>\n",
       "      <td>70.0</td>\n",
       "      <td>69.0</td>\n",
       "      <td>0.207407</td>\n",
       "      <td>0.259259</td>\n",
       "      <td>0.533333</td>\n",
       "      <td>0.192717</td>\n",
       "      <td>0.274476</td>\n",
       "      <td>0.532807</td>\n",
       "      <td>Win</td>\n",
       "    </tr>\n",
       "    <tr>\n",
       "      <th>4</th>\n",
       "      <td>493040</td>\n",
       "      <td>-2.0</td>\n",
       "      <td>0.0</td>\n",
       "      <td>0.0</td>\n",
       "      <td>0.0</td>\n",
       "      <td>0.0</td>\n",
       "      <td>0.0</td>\n",
       "      <td>1</td>\n",
       "      <td>0</td>\n",
       "      <td>0</td>\n",
       "      <td>...</td>\n",
       "      <td>60.0</td>\n",
       "      <td>63.0</td>\n",
       "      <td>65.0</td>\n",
       "      <td>0.535211</td>\n",
       "      <td>0.267606</td>\n",
       "      <td>0.197183</td>\n",
       "      <td>0.565759</td>\n",
       "      <td>0.254990</td>\n",
       "      <td>0.179250</td>\n",
       "      <td>Draw</td>\n",
       "    </tr>\n",
       "  </tbody>\n",
       "</table>\n",
       "<p>5 rows × 47 columns</p>\n",
       "</div>"
      ],
      "text/plain": [
       "  match_api_id  home_team_goals_difference  away_team_goals_difference  \\\n",
       "0       493017                         0.0                         0.0   \n",
       "1       493025                         0.0                         0.0   \n",
       "2       493027                         0.0                         0.0   \n",
       "3       493034                         1.0                         2.0   \n",
       "4       493040                        -2.0                         0.0   \n",
       "\n",
       "   games_won_home_team  games_won_away_team  games_against_won  \\\n",
       "0                  0.0                  0.0                0.0   \n",
       "1                  0.0                  0.0                0.0   \n",
       "2                  0.0                  0.0                0.0   \n",
       "3                  1.0                  1.0                0.0   \n",
       "4                  0.0                  0.0                0.0   \n",
       "\n",
       "   games_against_lost  League_1.0  League_1729.0  League_4769.0   ...    \\\n",
       "0                 0.0           1              0              0   ...     \n",
       "1                 0.0           1              0              0   ...     \n",
       "2                 0.0           1              0              0   ...     \n",
       "3                 0.0           1              0              0   ...     \n",
       "4                 0.0           1              0              0   ...     \n",
       "\n",
       "   away_player_9_overall_rating  away_player_10_overall_rating  \\\n",
       "0                          70.0                           68.0   \n",
       "1                          67.0                           73.0   \n",
       "2                          55.0                           58.0   \n",
       "3                          74.0                           70.0   \n",
       "4                          60.0                           63.0   \n",
       "\n",
       "   away_player_11_overall_rating  B365_Win  B365_Draw  B365_Defeat    BW_Win  \\\n",
       "0                           63.0  0.313804   0.276886     0.409310  0.307825   \n",
       "1                           68.0  0.327179   0.286281     0.386540  0.290493   \n",
       "2                           64.0  0.672897   0.209346     0.117757  0.672269   \n",
       "3                           69.0  0.207407   0.259259     0.533333  0.192717   \n",
       "4                           65.0  0.535211   0.267606     0.197183  0.565759   \n",
       "\n",
       "    BW_Draw  BW_Defeat   label  \n",
       "0  0.279410   0.412765     Win  \n",
       "1  0.300176   0.409331  Defeat  \n",
       "2  0.226891   0.100840     Win  \n",
       "3  0.274476   0.532807     Win  \n",
       "4  0.254990   0.179250    Draw  \n",
       "\n",
       "[5 rows x 47 columns]"
      ]
     },
     "execution_count": 25,
     "metadata": {},
     "output_type": "execute_result"
    }
   ],
   "source": [
    "# Load/Read in Final Dataset\n",
    "feables = pd.read_pickle('../data/feables.pkl')\n",
    "print(feables.columns)\n",
    "feables.head()"
   ]
  },
  {
   "cell_type": "markdown",
   "metadata": {
    "heading_collapsed": true
   },
   "source": [
    "# Final Prep for Input Dataset <a id=\"finalprepforinputdataset\"></a>"
   ]
  },
  {
   "cell_type": "markdown",
   "metadata": {
    "hidden": true
   },
   "source": [
    "1. Here we have our match outcome under the column 'label'. Sklearn has evolved quite a bit and some models have accepted text for classes. But others require us to enumerate the classes as integers or \"flags\" for them to work with numpy and the ml computation. Here, we just change them to 0s and 1s for a mental exercise. (More of multiclass/multilabel classifying can be found [here](http://scikit-learn.org/stable/tutorial/basic/tutorial.html#multiclass-vs-multilabel-fitting) and [here2](https://stats.stackexchange.com/questions/11859/what-is-the-difference-between-multiclass-and-multilabel-problem))  \n",
    "<br>\n",
    "2. We have cannot just learn from the entire dataset as we will be \"overfitting\" the data. Hence, we use sklearn's helper function \"train_test_split()\" to work this out.\n",
    "\n",
    "Excerpt from Jeremy Howard's FastAI [machine learning course](http://forums.fast.ai/t/another-treat-early-access-to-intro-to-machine-learning-videos/6826?source_topic_id=9285&source_topic_id=9594):  \n",
    "\n",
    "\n",
    "\"\n",
    "Possibly **the most important idea** in machine learning is that of having separate training & validation data sets. As motivation, suppose you don't divide up your data, but instead use all of it.  And suppose you have lots of parameters:\n",
    "\n",
    "<img src=\"images/overfitting2.png\" alt=\"\" style=\"width: 70%\"/>\n",
    "<center>\n",
    "[Underfitting and Overfitting](https://datascience.stackexchange.com/questions/361/when-is-a-model-underfitted)\n",
    "</center>\n",
    "\n",
    "The error for the pictured data points is lowest for the model on the far right (the blue curve passes through the red points almost perfectly), yet it's not the best choice.  Why is that?  If you were to gather some new data points, they most likely would not be on that curve in the graph on the right, but would be closer to the curve in the middle graph.\n",
    "\n",
    "This illustrates how using all our data can lead to **overfitting**. A validation set helps diagnose this problem.\n",
    "\""
   ]
  },
  {
   "cell_type": "markdown",
   "metadata": {
    "heading_collapsed": true,
    "hidden": true
   },
   "source": [
    "## Labeling <a id=\"labeling\"></a>"
   ]
  },
  {
   "cell_type": "code",
   "execution_count": 28,
   "metadata": {
    "ExecuteTime": {
     "end_time": "2018-06-29T14:31:44.987926Z",
     "start_time": "2018-06-29T14:31:44.716817Z"
    },
    "collapsed": true,
    "hidden": true
   },
   "outputs": [],
   "source": [
    "# rename input df and drop match id keys\n",
    "inputs = feables.drop('match_api_id', axis = 1)\n",
    "\n",
    "# convert training label to integer based\n",
    "#inputs['label'] = inputs.label.apply(lambda x: 0 if x=='Defeat' else (1 if x=='Draw' else 2))\n",
    "\n",
    "# convert training label to win/loose\n",
    "inputs['label'] = inputs.label.apply(lambda x: 1 if x =='Win' else 0)\n",
    "\n",
    "# split/seperate out the training label and features\n",
    "labels = inputs['label']\n",
    "features = inputs.drop(['label'], axis = 1)"
   ]
  },
  {
   "cell_type": "code",
   "execution_count": 29,
   "metadata": {
    "ExecuteTime": {
     "end_time": "2018-06-29T14:31:47.523016Z",
     "start_time": "2018-06-29T14:31:47.259915Z"
    },
    "hidden": true
   },
   "outputs": [
    {
     "name": "stdout",
     "output_type": "stream",
     "text": [
      "there are 9034(45.92%) wins out of a total of 19673 rows/matches\n"
     ]
    }
   ],
   "source": [
    "# Calculate training label ratio\n",
    "\n",
    "win_rows = inputs['label'].sum()\n",
    "total_rows = inputs['label'].size\n",
    "perc_wins = win_rows / total_rows * 100\n",
    "\n",
    "print('there are {0}({1:.2f}%) wins out of a total of {2} rows/matches'.format(win_rows, perc_wins, total_rows))"
   ]
  },
  {
   "cell_type": "markdown",
   "metadata": {
    "heading_collapsed": true,
    "hidden": true
   },
   "source": [
    "## Train Test Split <a id=\"traintestsplit\"></a>"
   ]
  },
  {
   "cell_type": "code",
   "execution_count": 30,
   "metadata": {
    "ExecuteTime": {
     "end_time": "2018-06-29T14:31:55.618202Z",
     "start_time": "2018-06-29T14:31:55.365717Z"
    },
    "collapsed": true,
    "hidden": true
   },
   "outputs": [],
   "source": [
    "#Splitting the data into Train and Test data sets\n",
    "X_train, X_test, y_train, y_test = train_test_split(features, labels, \n",
    "                                                    test_size = 0.2, \n",
    "                                                    random_state = 88, \n",
    "                                                    stratify = labels)"
   ]
  },
  {
   "cell_type": "markdown",
   "metadata": {},
   "source": [
    "# Model Training <a id=\"modeltraining\"></a>"
   ]
  },
  {
   "cell_type": "markdown",
   "metadata": {},
   "source": [
    "1. Sklearn comes with many [models](http://scikit-learn.org/stable/user_guide.html). For simplicity, today, we just try out the Decision Tree and Random Forest classifiers. (Note: There can also be models that work on Regression problems)    \n",
    "<br>\n",
    "2. Training and Predicting the model is mostly simple. Sklearn's api standardises most to a \"model.fit()\", \"model.predict\" form. (more [sklearn tutorials](http://scikit-learn.org/stable/tutorial/index.html))\n",
    "\n",
    "<img src=\"images/decisiontree.png\" alt=\"\" style=\"width: 50%\"/>\n",
    "<center>\n",
    "[Decision Tree](https://towardsdatascience.com/the-decision-tree-of-life-12f1eef603ba)\n",
    "</center>"
   ]
  },
  {
   "cell_type": "markdown",
   "metadata": {
    "heading_collapsed": true
   },
   "source": [
    "### Decision Tree (Background)"
   ]
  },
  {
   "cell_type": "markdown",
   "metadata": {
    "hidden": true
   },
   "source": [
    "- From \"[Decision Trees Explained Easily](https://medium.com/@chiragsehra42/decision-trees-explained-easily-28f23241248)\" by Chirag Sehra:  \n",
    "*\"Decision Trees (DTs) are a non-parametric supervised learning method used for classification and regression.\"*  \n",
    "\n",
    "\n",
    "- Terminology from \"[Decision tree Intuition](https://medium.com/greyatom/decision-tree-intuition-a38669005cb7)\" by Biraj Parikh:\n",
    "<img src=\"images/decisiontree_terminology.PNG\" alt=\"\" style=\"width: 70%\"/>\n",
    "<center>\n",
    "[Decision Tree Terminology](https://medium.com/greyatom/decision-tree-intuition-a38669005cb7)\n",
    "</center>\n",
    "\n",
    "    * Root Node: It represents entire population or sample and this further gets divided into two or more homogeneous sets.\n",
    "    * Splitting: It is a process of dividing a node into two or more sub-nodes.\n",
    "    * Decision Node: When a sub-node splits into further sub-nodes, then it is called decision node.\n",
    "    * Leaf / Terminal Node: Nodes do not split is called Leaf or Terminal node.\n",
    "    * Pruning: When we remove sub-nodes of a decision node, this process is called pruning.\n",
    "    * Branch / Sub-Tree: A sub section of entire tree is called branch or sub-tree.\n",
    "\n"
   ]
  },
  {
   "cell_type": "markdown",
   "metadata": {
    "hidden": true
   },
   "source": [
    "**How do we decide which variable to split on first?**  \n",
    "\n",
    "from \"[Decision tree Intuition](https://medium.com/greyatom/decision-tree-intuition-a38669005cb7)\" by Biraj Parikh:    \n",
    "\n",
    "**ENTROPY**  \n",
    "*A decision tree is built top-down from a root node and involves partitioning the data into subsets that contain instances with similar values (homogeneous). ID3 algorithm uses entropy to calculate the homogeneity of a sample. If the sample is completely homogeneous the entropy is zero and if the sample is equally divided it has entropy of one.*\n",
    "\n",
    "<img src=\"images/entropy_curve.PNG\" alt=\"\" style=\"width: 45%\"/>\n",
    "<center>\n",
    "[Entropy](https://medium.com/greyatom/decision-tree-intuition-a38669005cb7)\n",
    "</center>\n",
    "\n",
    "**INFORMATION GAIN**  \n",
    "*Entropy gives measure of impurity in a node. In a decision tree building process, two important decisions are to be made — what is the best split(s) and which is the best variable to split a node.*  \n",
    "\n",
    "<br>\n",
    "**Few Other Commonly used Algorithms are:**\n",
    "    - ID3\n",
    "    - C4.5\n",
    "    - CART\n",
    "    - CHAID (Chi-squared Automatic Interaction Detector)\n",
    "\n",
    "<br>\n",
    "**GINI (other metric for splitting)**:  \n",
    "*from [Gini Impurity vs Entropy (stackexchange)](https://datascience.stackexchange.com/questions/10228/gini-impurity-vs-entropy)*:  \n",
    "<img src=\"images/gini_formula.PNG\" alt=\"\" style=\"width: 30%\"/>\n",
    "<center>\n",
    "[Gini vs Entropy](https://datascience.stackexchange.com/questions/10228/gini-impurity-vs-entropy)\n",
    "</center>\n",
    "\n",
    "<br>\n",
    "\n",
    "**So various implementation breakdown:**\n",
    "<img src=\"images/dt_summary.PNG\" alt=\"\" style=\"width: 45%\"/>\n",
    "<center>\n",
    "[Algorithm Implementations](https://medium.com/greyatom/decision-tree-intuition-a38669005cb7)\n",
    "</center>\n",
    "\n",
    "<br>\n",
    "** Reference to python's sklearn Decision Tree API:** [BUILDING DECISION TREE ALGORITHM IN PYTHON WITH SCIKIT LEARN](http://dataaspirant.com/2017/02/01/decision-tree-algorithm-python-with-scikit-learn/)"
   ]
  },
  {
   "cell_type": "markdown",
   "metadata": {
    "heading_collapsed": true
   },
   "source": [
    "### Random Forest (Background)"
   ]
  },
  {
   "cell_type": "markdown",
   "metadata": {
    "hidden": true
   },
   "source": [
    "An **[Ensemble Learning](https://en.wikipedia.org/wiki/Ensemble_learning)** method, according to wikipedia, uses multiple learning algorithms to obtain better predictive performance that could be obtained from any of the constituent learning algorithms alone.  \n",
    "\n",
    "A **Random Forest** is basically an ensemble of decision trees.\n",
    "\n",
    "According to William Koehrsen in \"[Random Forest Simple Explanation](https://medium.com/@williamkoehrsen/random-forest-simple-explanation-377895a60d2d)\":  \n",
    "\n",
    "*\"In technical terms, the predictions have variance because they will be widely spread around the right answer. Now, what if we take predictions from hundreds or thousands of individuals, some of which are high and some of which are low, and decided to average them together? Well, congratulations, we have created a random forest!\"*  \n",
    "\n",
    "<br>\n",
    "**The [official page of the algorithm](https://www.stat.berkeley.edu/~breiman/RandomForests/cc_home.htm#remarks) and this [stackexchange](https://stats.stackexchange.com/questions/36165/does-the-optimal-number-of-trees-in-a-random-forest-depend-on-the-number-of-pred) states that**:  \n",
    "\n",
    "*\"Random forest uses bagging (picking a sample of observations rather than all of them) and random subspace method (picking a sample of features rather than all of them, in other words - attribute bagging) to grow a tree.\"*  \n",
    "\n",
    "<br>\n",
    "\n",
    "<img src=\"images/randomforest.PNG\" alt=\"\" style=\"width: 55%\"/>\n",
    "<center>\n",
    "[random forest](https://towardsdatascience.com/a-tour-of-the-top-10-algorithms-for-machine-learning-newbies-dde4edffae11)\n",
    "</center>\n",
    "\n",
    "<br>\n",
    "**Other References on implementation**:  \n",
    "[The Random Forest Algorithm](https://towardsdatascience.com/the-random-forest-algorithm-d457d499ffcd)  \n",
    "[Intuitive Interpretation of Random Forest](https://medium.com/usf-msds/intuitive-interpretation-of-random-forest-2238687cae45)  \n",
    "\n"
   ]
  },
  {
   "cell_type": "markdown",
   "metadata": {
    "heading_collapsed": true
   },
   "source": [
    "### Build Models"
   ]
  },
  {
   "cell_type": "code",
   "execution_count": 31,
   "metadata": {
    "ExecuteTime": {
     "end_time": "2018-06-29T14:33:02.211693Z",
     "start_time": "2018-06-29T14:33:01.954622Z"
    },
    "collapsed": true,
    "hidden": true
   },
   "outputs": [],
   "source": [
    "# Initiate Model Objects\n",
    "\n",
    "# Decision Tree Model Initiate\n",
    "DT_clf = DecisionTreeClassifier(min_samples_split=20, random_state=88, criterion='gini', class_weight = 'balanced')\n",
    "\n",
    "# Random Forest Model Initiate\n",
    "RF_clf = RandomForestClassifier(n_estimators = 200, random_state = 88, criterion='gini', class_weight = 'balanced', oob_score=True)"
   ]
  },
  {
   "cell_type": "code",
   "execution_count": 32,
   "metadata": {
    "ExecuteTime": {
     "end_time": "2018-06-29T14:33:15.007844Z",
     "start_time": "2018-06-29T14:33:04.119898Z"
    },
    "collapsed": true,
    "hidden": true
   },
   "outputs": [],
   "source": [
    "# Train Model on Training Set\n",
    "\n",
    "model_dt = DT_clf.fit(X_train, y_train)\n",
    "model_rf = RF_clf.fit(X_train, y_train)"
   ]
  },
  {
   "cell_type": "code",
   "execution_count": 33,
   "metadata": {
    "ExecuteTime": {
     "end_time": "2018-06-29T14:33:18.456107Z",
     "start_time": "2018-06-29T14:33:17.937437Z"
    },
    "hidden": true
   },
   "outputs": [
    {
     "data": {
      "text/plain": [
       "array([0, 0, 0, ..., 1, 1, 0], dtype=int64)"
      ]
     },
     "execution_count": 33,
     "metadata": {},
     "output_type": "execute_result"
    }
   ],
   "source": [
    "# Predict on Test Set\n",
    "\n",
    "predictDT_on_test = model_dt.predict(X_test) # model.predict_proba(X_test) # for predicting in probabilities\n",
    "predictDT_on_test\n",
    "\n",
    "predictRF_on_test = model_rf.predict(X_test) # model.predict_proba(X_test) # for predicting in probabilities\n",
    "predictRF_on_test"
   ]
  },
  {
   "cell_type": "markdown",
   "metadata": {},
   "source": [
    "# Evaluation <a id=\"evaluation\"></a>"
   ]
  },
  {
   "cell_type": "markdown",
   "metadata": {},
   "source": [
    "1. So we can take plain accuracy for our model to gauge its success. However, if a dataset is dominated by 1 class, guessin just that class would probably get us far on accuracy as well. Hence, we need to look at the metrics describing [False/True Positives and Negatives](https://towardsdatascience.com/beyond-accuracy-precision-and-recall-3da06bea9f6c).    \n",
    "<br>\n",
    "2. After knowing about False/True Positives and Negatives, we should touch on the normal way they present them. ie. A [confusion matrix](https://www.dataschool.io/simple-guide-to-confusion-matrix-terminology/).  \n",
    "<br>\n",
    "3. And finally, we should understand a bit on how to make sense of these numbers with some [ROC or AUC curves](https://www.dataschool.io/roc-curves-and-auc-explained/) ([another ref](https://stats.stackexchange.com/questions/132777/what-does-auc-stand-for-and-what-is-it))?"
   ]
  },
  {
   "cell_type": "markdown",
   "metadata": {
    "heading_collapsed": true
   },
   "source": [
    "### Simple Evaluation <a id=\"simpleevaluation\"></a>"
   ]
  },
  {
   "cell_type": "code",
   "execution_count": 35,
   "metadata": {
    "ExecuteTime": {
     "end_time": "2018-06-29T15:33:54.771986Z",
     "start_time": "2018-06-29T15:33:53.879593Z"
    },
    "hidden": true
   },
   "outputs": [
    {
     "data": {
      "text/plain": [
       "0.57153748411689964"
      ]
     },
     "execution_count": 35,
     "metadata": {},
     "output_type": "execute_result"
    }
   ],
   "source": [
    "# Get accuracy score for Decision Tree\n",
    "accuracy_DT_on_testset = accuracy_score(y_test, predictDT_on_test)\n",
    "accuracy_DT_on_testset"
   ]
  },
  {
   "cell_type": "code",
   "execution_count": 36,
   "metadata": {
    "ExecuteTime": {
     "end_time": "2018-06-29T15:33:55.129588Z",
     "start_time": "2018-06-29T15:33:54.786989Z"
    },
    "hidden": true
   },
   "outputs": [
    {
     "data": {
      "text/plain": [
       "0.63659466327827197"
      ]
     },
     "execution_count": 36,
     "metadata": {},
     "output_type": "execute_result"
    }
   ],
   "source": [
    "# Get accuracy score for Random Forest\n",
    "accuracy_RF_on_testset = accuracy_score(y_test, predictRF_on_test)\n",
    "accuracy_RF_on_testset"
   ]
  },
  {
   "cell_type": "code",
   "execution_count": 37,
   "metadata": {
    "ExecuteTime": {
     "end_time": "2018-06-29T15:34:01.615119Z",
     "start_time": "2018-06-29T15:33:55.134587Z"
    },
    "hidden": true
   },
   "outputs": [
    {
     "data": {
      "text/plain": [
       "array([ 0.56199187,  0.58739837,  0.54268293,  0.54420732,  0.55821047,\n",
       "        0.53990849,  0.58922217,  0.59938993,  0.526182  ,  0.57884028])"
      ]
     },
     "execution_count": 37,
     "metadata": {},
     "output_type": "execute_result"
    }
   ],
   "source": [
    "# cross validation for Decision Tree Accuracy\n",
    "cv_accuracy = cross_val_score(model_dt, features, labels, cv=10)\n",
    "cv_accuracy\n",
    "\n",
    "# the parameter scoring can be specified with 'roc_auc', 'precision', 'recall', 'f1' etc"
   ]
  },
  {
   "cell_type": "code",
   "execution_count": 38,
   "metadata": {
    "ExecuteTime": {
     "end_time": "2018-06-29T15:36:03.673547Z",
     "start_time": "2018-06-29T15:34:01.620086Z"
    },
    "hidden": true
   },
   "outputs": [
    {
     "data": {
      "text/plain": [
       "array([ 0.6504065 ,  0.65752033,  0.60873984,  0.61686992,  0.62785968,\n",
       "        0.6273513 ,  0.66903915,  0.69801729,  0.64107778,  0.67192269])"
      ]
     },
     "execution_count": 38,
     "metadata": {},
     "output_type": "execute_result"
    }
   ],
   "source": [
    "# cross validation for Random Forest Accuracy\n",
    "cv_accuracy = cross_val_score(model_rf, features, labels, cv=10)\n",
    "cv_accuracy\n",
    "\n",
    "# the parameter scoring can be specified with 'roc_auc', 'precision', 'recall', 'f1' etc"
   ]
  },
  {
   "cell_type": "markdown",
   "metadata": {
    "heading_collapsed": true
   },
   "source": [
    "### Confused Evaluation :P <a id=\"confusedevaluation\"></a>"
   ]
  },
  {
   "cell_type": "code",
   "execution_count": 39,
   "metadata": {
    "ExecuteTime": {
     "end_time": "2018-06-29T15:36:16.250585Z",
     "start_time": "2018-06-29T15:36:15.965508Z"
    },
    "hidden": true
   },
   "outputs": [
    {
     "data": {
      "text/plain": [
       "array([[1247,  805],\n",
       "       [ 881, 1002]], dtype=int64)"
      ]
     },
     "execution_count": 39,
     "metadata": {},
     "output_type": "execute_result"
    }
   ],
   "source": [
    "# Confusion Matrix for Decision Tree\n",
    "confusion_matrix(predictDT_on_test, y_test)"
   ]
  },
  {
   "cell_type": "code",
   "execution_count": 40,
   "metadata": {
    "ExecuteTime": {
     "end_time": "2018-06-29T15:36:16.504743Z",
     "start_time": "2018-06-29T15:36:16.253585Z"
    },
    "hidden": true
   },
   "outputs": [
    {
     "name": "stdout",
     "output_type": "stream",
     "text": [
      "             precision    recall  f1-score   support\n",
      "\n",
      "     no win       0.61      0.59      0.60      2128\n",
      "        Win       0.53      0.55      0.54      1807\n",
      "\n",
      "avg / total       0.57      0.57      0.57      3935\n",
      "\n"
     ]
    }
   ],
   "source": [
    "# Classification Report for Decision Tree\n",
    "print(classification_report(y_test, predictDT_on_test, labels=[0,1], target_names=['no win', 'Win']))"
   ]
  },
  {
   "cell_type": "code",
   "execution_count": 41,
   "metadata": {
    "ExecuteTime": {
     "end_time": "2018-06-29T15:36:16.890315Z",
     "start_time": "2018-06-29T15:36:16.509749Z"
    },
    "hidden": true
   },
   "outputs": [
    {
     "data": {
      "text/plain": [
       "array([[1598,  900],\n",
       "       [ 530,  907]], dtype=int64)"
      ]
     },
     "execution_count": 41,
     "metadata": {},
     "output_type": "execute_result"
    }
   ],
   "source": [
    "# Confusion Matrix for Random Forest\n",
    "confusion_matrix(predictRF_on_test, y_test)"
   ]
  },
  {
   "cell_type": "code",
   "execution_count": 42,
   "metadata": {
    "ExecuteTime": {
     "end_time": "2018-06-29T15:36:17.236682Z",
     "start_time": "2018-06-29T15:36:16.894830Z"
    },
    "hidden": true
   },
   "outputs": [
    {
     "name": "stdout",
     "output_type": "stream",
     "text": [
      "             precision    recall  f1-score   support\n",
      "\n",
      "     no win       0.64      0.75      0.69      2128\n",
      "        Win       0.63      0.50      0.56      1807\n",
      "\n",
      "avg / total       0.64      0.64      0.63      3935\n",
      "\n"
     ]
    }
   ],
   "source": [
    "# Classification Report for Random Forest\n",
    "print(classification_report(y_test, predictRF_on_test, labels=[0,1], target_names=['no win', 'Win']))"
   ]
  },
  {
   "cell_type": "markdown",
   "metadata": {
    "heading_collapsed": true
   },
   "source": [
    "### Feature Importance <a id=\"featureimportance\"></a>"
   ]
  },
  {
   "cell_type": "code",
   "execution_count": 43,
   "metadata": {
    "ExecuteTime": {
     "end_time": "2018-06-29T15:36:25.945751Z",
     "start_time": "2018-06-29T15:36:25.640433Z"
    },
    "hidden": true
   },
   "outputs": [
    {
     "data": {
      "text/html": [
       "<div>\n",
       "<style>\n",
       "    .dataframe thead tr:only-child th {\n",
       "        text-align: right;\n",
       "    }\n",
       "\n",
       "    .dataframe thead th {\n",
       "        text-align: left;\n",
       "    }\n",
       "\n",
       "    .dataframe tbody tr th {\n",
       "        vertical-align: top;\n",
       "    }\n",
       "</style>\n",
       "<table border=\"1\" class=\"dataframe\">\n",
       "  <thead>\n",
       "    <tr style=\"text-align: right;\">\n",
       "      <th></th>\n",
       "      <th>features</th>\n",
       "      <th>importance</th>\n",
       "    </tr>\n",
       "  </thead>\n",
       "  <tbody>\n",
       "    <tr>\n",
       "      <th>44</th>\n",
       "      <td>BW_Defeat</td>\n",
       "      <td>0.171363</td>\n",
       "    </tr>\n",
       "    <tr>\n",
       "      <th>39</th>\n",
       "      <td>B365_Win</td>\n",
       "      <td>0.094419</td>\n",
       "    </tr>\n",
       "    <tr>\n",
       "      <th>42</th>\n",
       "      <td>BW_Win</td>\n",
       "      <td>0.035259</td>\n",
       "    </tr>\n",
       "    <tr>\n",
       "      <th>43</th>\n",
       "      <td>BW_Draw</td>\n",
       "      <td>0.034477</td>\n",
       "    </tr>\n",
       "    <tr>\n",
       "      <th>26</th>\n",
       "      <td>home_player_10_overall_rating</td>\n",
       "      <td>0.033535</td>\n",
       "    </tr>\n",
       "    <tr>\n",
       "      <th>1</th>\n",
       "      <td>away_team_goals_difference</td>\n",
       "      <td>0.033481</td>\n",
       "    </tr>\n",
       "    <tr>\n",
       "      <th>41</th>\n",
       "      <td>B365_Defeat</td>\n",
       "      <td>0.030593</td>\n",
       "    </tr>\n",
       "    <tr>\n",
       "      <th>27</th>\n",
       "      <td>home_player_11_overall_rating</td>\n",
       "      <td>0.029866</td>\n",
       "    </tr>\n",
       "    <tr>\n",
       "      <th>28</th>\n",
       "      <td>away_player_1_overall_rating</td>\n",
       "      <td>0.028361</td>\n",
       "    </tr>\n",
       "    <tr>\n",
       "      <th>35</th>\n",
       "      <td>away_player_8_overall_rating</td>\n",
       "      <td>0.027040</td>\n",
       "    </tr>\n",
       "    <tr>\n",
       "      <th>40</th>\n",
       "      <td>B365_Draw</td>\n",
       "      <td>0.026716</td>\n",
       "    </tr>\n",
       "    <tr>\n",
       "      <th>20</th>\n",
       "      <td>home_player_4_overall_rating</td>\n",
       "      <td>0.026303</td>\n",
       "    </tr>\n",
       "    <tr>\n",
       "      <th>23</th>\n",
       "      <td>home_player_7_overall_rating</td>\n",
       "      <td>0.025643</td>\n",
       "    </tr>\n",
       "    <tr>\n",
       "      <th>29</th>\n",
       "      <td>away_player_2_overall_rating</td>\n",
       "      <td>0.023732</td>\n",
       "    </tr>\n",
       "    <tr>\n",
       "      <th>25</th>\n",
       "      <td>home_player_9_overall_rating</td>\n",
       "      <td>0.022859</td>\n",
       "    </tr>\n",
       "    <tr>\n",
       "      <th>33</th>\n",
       "      <td>away_player_6_overall_rating</td>\n",
       "      <td>0.022798</td>\n",
       "    </tr>\n",
       "    <tr>\n",
       "      <th>0</th>\n",
       "      <td>home_team_goals_difference</td>\n",
       "      <td>0.022652</td>\n",
       "    </tr>\n",
       "    <tr>\n",
       "      <th>19</th>\n",
       "      <td>home_player_3_overall_rating</td>\n",
       "      <td>0.021777</td>\n",
       "    </tr>\n",
       "    <tr>\n",
       "      <th>32</th>\n",
       "      <td>away_player_5_overall_rating</td>\n",
       "      <td>0.021762</td>\n",
       "    </tr>\n",
       "    <tr>\n",
       "      <th>18</th>\n",
       "      <td>home_player_2_overall_rating</td>\n",
       "      <td>0.021713</td>\n",
       "    </tr>\n",
       "  </tbody>\n",
       "</table>\n",
       "</div>"
      ],
      "text/plain": [
       "                         features  importance\n",
       "44                      BW_Defeat    0.171363\n",
       "39                       B365_Win    0.094419\n",
       "42                         BW_Win    0.035259\n",
       "43                        BW_Draw    0.034477\n",
       "26  home_player_10_overall_rating    0.033535\n",
       "1      away_team_goals_difference    0.033481\n",
       "41                    B365_Defeat    0.030593\n",
       "27  home_player_11_overall_rating    0.029866\n",
       "28   away_player_1_overall_rating    0.028361\n",
       "35   away_player_8_overall_rating    0.027040\n",
       "40                      B365_Draw    0.026716\n",
       "20   home_player_4_overall_rating    0.026303\n",
       "23   home_player_7_overall_rating    0.025643\n",
       "29   away_player_2_overall_rating    0.023732\n",
       "25   home_player_9_overall_rating    0.022859\n",
       "33   away_player_6_overall_rating    0.022798\n",
       "0      home_team_goals_difference    0.022652\n",
       "19   home_player_3_overall_rating    0.021777\n",
       "32   away_player_5_overall_rating    0.021762\n",
       "18   home_player_2_overall_rating    0.021713"
      ]
     },
     "execution_count": 43,
     "metadata": {},
     "output_type": "execute_result"
    }
   ],
   "source": [
    "# feature importance for Decision Tree\n",
    "DT_feature_impt = pd.DataFrame({'features':features.columns, 'importance':model_dt.feature_importances_}).sort_values('importance', ascending=False)\n",
    "DT_feature_impt.head(20)"
   ]
  },
  {
   "cell_type": "code",
   "execution_count": 44,
   "metadata": {
    "ExecuteTime": {
     "end_time": "2018-06-29T15:36:26.653024Z",
     "start_time": "2018-06-29T15:36:25.949756Z"
    },
    "hidden": true
   },
   "outputs": [
    {
     "data": {
      "text/html": [
       "<div>\n",
       "<style>\n",
       "    .dataframe thead tr:only-child th {\n",
       "        text-align: right;\n",
       "    }\n",
       "\n",
       "    .dataframe thead th {\n",
       "        text-align: left;\n",
       "    }\n",
       "\n",
       "    .dataframe tbody tr th {\n",
       "        vertical-align: top;\n",
       "    }\n",
       "</style>\n",
       "<table border=\"1\" class=\"dataframe\">\n",
       "  <thead>\n",
       "    <tr style=\"text-align: right;\">\n",
       "      <th></th>\n",
       "      <th>features</th>\n",
       "      <th>importance</th>\n",
       "    </tr>\n",
       "  </thead>\n",
       "  <tbody>\n",
       "    <tr>\n",
       "      <th>44</th>\n",
       "      <td>BW_Defeat</td>\n",
       "      <td>0.057375</td>\n",
       "    </tr>\n",
       "    <tr>\n",
       "      <th>42</th>\n",
       "      <td>BW_Win</td>\n",
       "      <td>0.055406</td>\n",
       "    </tr>\n",
       "    <tr>\n",
       "      <th>39</th>\n",
       "      <td>B365_Win</td>\n",
       "      <td>0.054353</td>\n",
       "    </tr>\n",
       "    <tr>\n",
       "      <th>41</th>\n",
       "      <td>B365_Defeat</td>\n",
       "      <td>0.051659</td>\n",
       "    </tr>\n",
       "    <tr>\n",
       "      <th>43</th>\n",
       "      <td>BW_Draw</td>\n",
       "      <td>0.040754</td>\n",
       "    </tr>\n",
       "    <tr>\n",
       "      <th>40</th>\n",
       "      <td>B365_Draw</td>\n",
       "      <td>0.038714</td>\n",
       "    </tr>\n",
       "    <tr>\n",
       "      <th>1</th>\n",
       "      <td>away_team_goals_difference</td>\n",
       "      <td>0.031431</td>\n",
       "    </tr>\n",
       "    <tr>\n",
       "      <th>0</th>\n",
       "      <td>home_team_goals_difference</td>\n",
       "      <td>0.031398</td>\n",
       "    </tr>\n",
       "    <tr>\n",
       "      <th>24</th>\n",
       "      <td>home_player_8_overall_rating</td>\n",
       "      <td>0.026641</td>\n",
       "    </tr>\n",
       "    <tr>\n",
       "      <th>25</th>\n",
       "      <td>home_player_9_overall_rating</td>\n",
       "      <td>0.026473</td>\n",
       "    </tr>\n",
       "    <tr>\n",
       "      <th>33</th>\n",
       "      <td>away_player_6_overall_rating</td>\n",
       "      <td>0.026384</td>\n",
       "    </tr>\n",
       "    <tr>\n",
       "      <th>23</th>\n",
       "      <td>home_player_7_overall_rating</td>\n",
       "      <td>0.026295</td>\n",
       "    </tr>\n",
       "    <tr>\n",
       "      <th>36</th>\n",
       "      <td>away_player_9_overall_rating</td>\n",
       "      <td>0.026183</td>\n",
       "    </tr>\n",
       "    <tr>\n",
       "      <th>27</th>\n",
       "      <td>home_player_11_overall_rating</td>\n",
       "      <td>0.025981</td>\n",
       "    </tr>\n",
       "    <tr>\n",
       "      <th>26</th>\n",
       "      <td>home_player_10_overall_rating</td>\n",
       "      <td>0.025894</td>\n",
       "    </tr>\n",
       "    <tr>\n",
       "      <th>34</th>\n",
       "      <td>away_player_7_overall_rating</td>\n",
       "      <td>0.025815</td>\n",
       "    </tr>\n",
       "    <tr>\n",
       "      <th>37</th>\n",
       "      <td>away_player_10_overall_rating</td>\n",
       "      <td>0.025713</td>\n",
       "    </tr>\n",
       "    <tr>\n",
       "      <th>28</th>\n",
       "      <td>away_player_1_overall_rating</td>\n",
       "      <td>0.025692</td>\n",
       "    </tr>\n",
       "    <tr>\n",
       "      <th>17</th>\n",
       "      <td>home_player_1_overall_rating</td>\n",
       "      <td>0.025660</td>\n",
       "    </tr>\n",
       "    <tr>\n",
       "      <th>32</th>\n",
       "      <td>away_player_5_overall_rating</td>\n",
       "      <td>0.025578</td>\n",
       "    </tr>\n",
       "  </tbody>\n",
       "</table>\n",
       "</div>"
      ],
      "text/plain": [
       "                         features  importance\n",
       "44                      BW_Defeat    0.057375\n",
       "42                         BW_Win    0.055406\n",
       "39                       B365_Win    0.054353\n",
       "41                    B365_Defeat    0.051659\n",
       "43                        BW_Draw    0.040754\n",
       "40                      B365_Draw    0.038714\n",
       "1      away_team_goals_difference    0.031431\n",
       "0      home_team_goals_difference    0.031398\n",
       "24   home_player_8_overall_rating    0.026641\n",
       "25   home_player_9_overall_rating    0.026473\n",
       "33   away_player_6_overall_rating    0.026384\n",
       "23   home_player_7_overall_rating    0.026295\n",
       "36   away_player_9_overall_rating    0.026183\n",
       "27  home_player_11_overall_rating    0.025981\n",
       "26  home_player_10_overall_rating    0.025894\n",
       "34   away_player_7_overall_rating    0.025815\n",
       "37  away_player_10_overall_rating    0.025713\n",
       "28   away_player_1_overall_rating    0.025692\n",
       "17   home_player_1_overall_rating    0.025660\n",
       "32   away_player_5_overall_rating    0.025578"
      ]
     },
     "execution_count": 44,
     "metadata": {},
     "output_type": "execute_result"
    }
   ],
   "source": [
    "# feature importance for Random Forest\n",
    "RF_feature_impt = pd.DataFrame({'features':features.columns, 'importance':model_rf.feature_importances_}).sort_values('importance', ascending=False)\n",
    "RF_feature_impt.head(20)"
   ]
  },
  {
   "cell_type": "markdown",
   "metadata": {},
   "source": [
    "# Further References <a id=\"furtherreferences\"></a>"
   ]
  },
  {
   "cell_type": "markdown",
   "metadata": {},
   "source": [
    "*placeholder*"
   ]
  }
 ],
 "metadata": {
  "kernelspec": {
   "display_name": "Python 3",
   "language": "python",
   "name": "python3"
  },
  "language_info": {
   "codemirror_mode": {
    "name": "ipython",
    "version": 3
   },
   "file_extension": ".py",
   "mimetype": "text/x-python",
   "name": "python",
   "nbconvert_exporter": "python",
   "pygments_lexer": "ipython3",
   "version": "3.6.2"
  }
 },
 "nbformat": 4,
 "nbformat_minor": 2
}
